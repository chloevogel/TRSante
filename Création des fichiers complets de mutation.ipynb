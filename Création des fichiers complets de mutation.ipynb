{
 "cells": [
  {
   "cell_type": "code",
   "execution_count": 3,
   "metadata": {},
   "outputs": [],
   "source": [
    "import pandas as pd\n",
    "from matplotlib import pyplot as plt\n",
    "import numpy as np\n",
    "import statistics"
   ]
  },
  {
   "cell_type": "code",
   "execution_count": 2,
   "metadata": {},
   "outputs": [],
   "source": [
    "file = open('C:/Users/BlueC/Documents/Mines/Santé/Code/annotated_G4plus_categories.bed')\n",
    "reader = pd.read_csv(file, delimiter='\\t')"
   ]
  },
  {
   "cell_type": "code",
   "execution_count": 3,
   "metadata": {},
   "outputs": [],
   "source": [
    "i_chrom = '1'"
   ]
  },
  {
   "cell_type": "code",
   "execution_count": 4,
   "metadata": {},
   "outputs": [
    {
     "ename": "FileNotFoundError",
     "evalue": "[Errno 2] No such file or directory: 'C:/Users/BlueC/Documents/Mines/Santé/Code/chr_1_2'",
     "output_type": "error",
     "traceback": [
      "\u001b[1;31m---------------------------------------------------------------------------\u001b[0m",
      "\u001b[1;31mFileNotFoundError\u001b[0m                         Traceback (most recent call last)",
      "\u001b[1;32m<ipython-input-4-ae80af1cd45f>\u001b[0m in \u001b[0;36m<module>\u001b[1;34m\u001b[0m\n\u001b[1;32m----> 1\u001b[1;33m \u001b[0mfile2\u001b[0m \u001b[1;33m=\u001b[0m \u001b[0mopen\u001b[0m\u001b[1;33m(\u001b[0m\u001b[1;34mf'C:/Users/BlueC/Documents/Mines/Santé/Code/chr_{i_chrom}_2'\u001b[0m\u001b[1;33m)\u001b[0m\u001b[1;33m\u001b[0m\u001b[1;33m\u001b[0m\u001b[0m\n\u001b[0m\u001b[0;32m      2\u001b[0m \u001b[0mmy_col\u001b[0m \u001b[1;33m=\u001b[0m \u001b[1;33m[\u001b[0m\u001b[1;34m'chr'\u001b[0m\u001b[1;33m,\u001b[0m \u001b[1;34m'pos'\u001b[0m\u001b[1;33m,\u001b[0m \u001b[1;34m'name'\u001b[0m\u001b[1;33m,\u001b[0m \u001b[1;34m'orig'\u001b[0m\u001b[1;33m,\u001b[0m \u001b[1;34m'mut'\u001b[0m\u001b[1;33m,\u001b[0m \u001b[1;34m'%'\u001b[0m\u001b[1;33m,\u001b[0m \u001b[1;34m'PASS'\u001b[0m\u001b[1;33m,\u001b[0m\u001b[1;34m'INFOS'\u001b[0m\u001b[1;33m,\u001b[0m \u001b[1;34m'AA'\u001b[0m\u001b[1;33m]\u001b[0m\u001b[1;33m\u001b[0m\u001b[1;33m\u001b[0m\u001b[0m\n\u001b[0;32m      3\u001b[0m \u001b[0mseparateurs\u001b[0m \u001b[1;33m=\u001b[0m \u001b[1;34m\"\\t|AA=\"\u001b[0m\u001b[1;33m\u001b[0m\u001b[1;33m\u001b[0m\u001b[0m\n\u001b[0;32m      4\u001b[0m \u001b[0mreader2\u001b[0m \u001b[1;33m=\u001b[0m \u001b[0mpd\u001b[0m\u001b[1;33m.\u001b[0m\u001b[0mread_csv\u001b[0m\u001b[1;33m(\u001b[0m\u001b[0mfile2\u001b[0m\u001b[1;33m,\u001b[0m \u001b[0msep\u001b[0m \u001b[1;33m=\u001b[0m \u001b[0mseparateurs\u001b[0m\u001b[1;33m,\u001b[0m \u001b[0mnames\u001b[0m \u001b[1;33m=\u001b[0m \u001b[0mmy_col\u001b[0m\u001b[1;33m,\u001b[0m \u001b[0mheader\u001b[0m \u001b[1;33m=\u001b[0m \u001b[1;32mNone\u001b[0m\u001b[1;33m,\u001b[0m \u001b[0mengine\u001b[0m \u001b[1;33m=\u001b[0m\u001b[1;34m'python'\u001b[0m\u001b[1;33m)\u001b[0m\u001b[1;33m\u001b[0m\u001b[1;33m\u001b[0m\u001b[0m\n\u001b[0;32m      5\u001b[0m \u001b[0mreader2\u001b[0m \u001b[1;33m=\u001b[0m \u001b[0mreader2\u001b[0m\u001b[1;33m.\u001b[0m\u001b[0mdrop_duplicates\u001b[0m\u001b[1;33m(\u001b[0m\u001b[1;33m)\u001b[0m\u001b[1;33m\u001b[0m\u001b[1;33m\u001b[0m\u001b[0m\n",
      "\u001b[1;31mFileNotFoundError\u001b[0m: [Errno 2] No such file or directory: 'C:/Users/BlueC/Documents/Mines/Santé/Code/chr_1_2'"
     ]
    }
   ],
   "source": [
    "file2 = open(f'C:/Users/BlueC/Documents/Mines/Santé/Code/chr_{i_chrom}_2')\n",
    "my_col = ['chr', 'pos', 'name', 'orig', 'mut', '%', 'PASS','INFOS', 'AA']\n",
    "separateurs = \"\\t|AA=\"\n",
    "reader2 = pd.read_csv(file2, sep = separateurs, names = my_col, header = None, engine ='python')\n",
    "reader2 = reader2.drop_duplicates()\n",
    "reader2 = reader2.reset_index(drop=True)"
   ]
  },
  {
   "cell_type": "code",
   "execution_count": null,
   "metadata": {},
   "outputs": [],
   "source": [
    "my_col = ['chr', 'pos', 'name', 'orig', 'mut', '%', 'PASS','INFOS', 'AA', 'start', 'end', 'type', 'distClosestG4', 'CGI', 'Ori', 'TSS']\n",
    "col_G4 = ['start', 'end', 'type', 'distClosestG4', 'CGI', 'Ori', 'TSS']\n",
    "table_finale = pd.DataFrame(columns = my_col)\n",
    "table_finale[['chr', 'pos', 'name', 'orig', 'mut', '%', 'PASS','INFOS', 'AA']] = reader2\n",
    "\n",
    "G4_table = reader[reader['chr'] == 'chr'+str(i_chrom)]\n",
    "G4_table = G4_table.reset_index(drop = True)"
   ]
  },
  {
   "cell_type": "code",
   "execution_count": null,
   "metadata": {},
   "outputs": [],
   "source": [
    "table_finale"
   ]
  },
  {
   "cell_type": "code",
   "execution_count": null,
   "metadata": {},
   "outputs": [],
   "source": [
    "G4_table"
   ]
  },
  {
   "cell_type": "code",
   "execution_count": null,
   "metadata": {},
   "outputs": [],
   "source": [
    "n_mut = len(reader2)\n",
    "n_G4 = len(G4_table)\n",
    "i_G4 = 0\n",
    "#start_table = G4_table['start']\n",
    "end_table = G4_table['end']\n",
    "pos_table = reader2['pos']\n",
    "\n",
    "for i_mut in range (n_mut):\n",
    "    #start = start_table.loc[i_G4]\n",
    "    end = end_table.loc[i_G4]\n",
    "    pos = pos_table.loc[i_mut]\n",
    "    while pos > end :\n",
    "        i_G4 += 1\n",
    "        end = end_table.loc[i_G4]\n",
    "    table_finale.loc[i_mut,col_G4] = G4_table.loc[i_G4]\n",
    "    if i_mut % 1000 == 0:\n",
    "        print(i_mut)\n",
    "print(\"fini\")"
   ]
  },
  {
   "cell_type": "code",
   "execution_count": null,
   "metadata": {},
   "outputs": [],
   "source": [
    "table_finale.to_csv(f'chr_{i_chrom}_final.csv')"
   ]
  },
  {
   "cell_type": "markdown",
   "metadata": {},
   "source": [
    "### Automatique"
   ]
  },
  {
   "cell_type": "code",
   "execution_count": 4,
   "metadata": {},
   "outputs": [
    {
     "data": {
      "text/html": [
       "<div>\n",
       "<style scoped>\n",
       "    .dataframe tbody tr th:only-of-type {\n",
       "        vertical-align: middle;\n",
       "    }\n",
       "\n",
       "    .dataframe tbody tr th {\n",
       "        vertical-align: top;\n",
       "    }\n",
       "\n",
       "    .dataframe thead th {\n",
       "        text-align: right;\n",
       "    }\n",
       "</style>\n",
       "<table border=\"1\" class=\"dataframe\">\n",
       "  <thead>\n",
       "    <tr style=\"text-align: right;\">\n",
       "      <th></th>\n",
       "      <th>chr</th>\n",
       "      <th>start</th>\n",
       "      <th>end</th>\n",
       "      <th>type</th>\n",
       "      <th>distClosestG4</th>\n",
       "      <th>CGI</th>\n",
       "      <th>Ori</th>\n",
       "      <th>TSS</th>\n",
       "      <th>sequence</th>\n",
       "    </tr>\n",
       "  </thead>\n",
       "  <tbody>\n",
       "    <tr>\n",
       "      <th>0</th>\n",
       "      <td>chr1</td>\n",
       "      <td>11008</td>\n",
       "      <td>11026</td>\n",
       "      <td>Canonical</td>\n",
       "      <td>33</td>\n",
       "      <td>0</td>\n",
       "      <td>0</td>\n",
       "      <td>0</td>\n",
       "      <td>gggcgggggttggggggg</td>\n",
       "    </tr>\n",
       "    <tr>\n",
       "      <th>1</th>\n",
       "      <td>chr1</td>\n",
       "      <td>11058</td>\n",
       "      <td>11078</td>\n",
       "      <td>Canonical</td>\n",
       "      <td>33</td>\n",
       "      <td>0</td>\n",
       "      <td>0</td>\n",
       "      <td>0</td>\n",
       "      <td>gggctggggcggggggaggg</td>\n",
       "    </tr>\n",
       "    <tr>\n",
       "      <th>2</th>\n",
       "      <td>chr1</td>\n",
       "      <td>12487</td>\n",
       "      <td>12514</td>\n",
       "      <td>Bulge</td>\n",
       "      <td>1410</td>\n",
       "      <td>0</td>\n",
       "      <td>0</td>\n",
       "      <td>0</td>\n",
       "      <td>GGGTGGTAGGTGCAGAGACGGGAGGGG</td>\n",
       "    </tr>\n",
       "    <tr>\n",
       "      <th>3</th>\n",
       "      <td>chr1</td>\n",
       "      <td>14664</td>\n",
       "      <td>14683</td>\n",
       "      <td>Bulge</td>\n",
       "      <td>1267</td>\n",
       "      <td>0</td>\n",
       "      <td>0</td>\n",
       "      <td>0</td>\n",
       "      <td>GGGTCTGGGGGGGAAGGTG</td>\n",
       "    </tr>\n",
       "    <tr>\n",
       "      <th>4</th>\n",
       "      <td>chr1</td>\n",
       "      <td>15949</td>\n",
       "      <td>15973</td>\n",
       "      <td>Bulge</td>\n",
       "      <td>687</td>\n",
       "      <td>0</td>\n",
       "      <td>0</td>\n",
       "      <td>0</td>\n",
       "      <td>GGAGCCGGGAGGTGGGGAACAGGG</td>\n",
       "    </tr>\n",
       "    <tr>\n",
       "      <th>...</th>\n",
       "      <td>...</td>\n",
       "      <td>...</td>\n",
       "      <td>...</td>\n",
       "      <td>...</td>\n",
       "      <td>...</td>\n",
       "      <td>...</td>\n",
       "      <td>...</td>\n",
       "      <td>...</td>\n",
       "      <td>...</td>\n",
       "    </tr>\n",
       "    <tr>\n",
       "      <th>732447</th>\n",
       "      <td>chrY</td>\n",
       "      <td>59362173</td>\n",
       "      <td>59362191</td>\n",
       "      <td>Canonical</td>\n",
       "      <td>370</td>\n",
       "      <td>0</td>\n",
       "      <td>0</td>\n",
       "      <td>0</td>\n",
       "      <td>gggcgggcgggctgaggg</td>\n",
       "    </tr>\n",
       "    <tr>\n",
       "      <th>732448</th>\n",
       "      <td>chrY</td>\n",
       "      <td>59362560</td>\n",
       "      <td>59362587</td>\n",
       "      <td>Canonical</td>\n",
       "      <td>9</td>\n",
       "      <td>0</td>\n",
       "      <td>0</td>\n",
       "      <td>0</td>\n",
       "      <td>gggtgagggtgagggttggggttgggg</td>\n",
       "    </tr>\n",
       "    <tr>\n",
       "      <th>732449</th>\n",
       "      <td>chrY</td>\n",
       "      <td>59362595</td>\n",
       "      <td>59363470</td>\n",
       "      <td>G-track</td>\n",
       "      <td>9</td>\n",
       "      <td>0</td>\n",
       "      <td>0</td>\n",
       "      <td>0</td>\n",
       "      <td>ggggttggggttggggttggggttggggttagggtttgggtttagg...</td>\n",
       "    </tr>\n",
       "    <tr>\n",
       "      <th>732450</th>\n",
       "      <td>chrY</td>\n",
       "      <td>59363480</td>\n",
       "      <td>59363508</td>\n",
       "      <td>Bulge</td>\n",
       "      <td>11</td>\n",
       "      <td>0</td>\n",
       "      <td>0</td>\n",
       "      <td>0</td>\n",
       "      <td>gggtgtgtgtgggtgtggtgtgtgtggg</td>\n",
       "    </tr>\n",
       "    <tr>\n",
       "      <th>732451</th>\n",
       "      <td>chrY</td>\n",
       "      <td>59363518</td>\n",
       "      <td>59363547</td>\n",
       "      <td>Canonical</td>\n",
       "      <td>11</td>\n",
       "      <td>0</td>\n",
       "      <td>0</td>\n",
       "      <td>0</td>\n",
       "      <td>gggtgtgggtgtgggtgtgggtgtgtggg</td>\n",
       "    </tr>\n",
       "  </tbody>\n",
       "</table>\n",
       "<p>732452 rows × 9 columns</p>\n",
       "</div>"
      ],
      "text/plain": [
       "         chr     start       end       type  distClosestG4  CGI  Ori  TSS  \\\n",
       "0       chr1     11008     11026  Canonical             33    0    0    0   \n",
       "1       chr1     11058     11078  Canonical             33    0    0    0   \n",
       "2       chr1     12487     12514      Bulge           1410    0    0    0   \n",
       "3       chr1     14664     14683      Bulge           1267    0    0    0   \n",
       "4       chr1     15949     15973      Bulge            687    0    0    0   \n",
       "...      ...       ...       ...        ...            ...  ...  ...  ...   \n",
       "732447  chrY  59362173  59362191  Canonical            370    0    0    0   \n",
       "732448  chrY  59362560  59362587  Canonical              9    0    0    0   \n",
       "732449  chrY  59362595  59363470    G-track              9    0    0    0   \n",
       "732450  chrY  59363480  59363508      Bulge             11    0    0    0   \n",
       "732451  chrY  59363518  59363547  Canonical             11    0    0    0   \n",
       "\n",
       "                                                 sequence  \n",
       "0                                      gggcgggggttggggggg  \n",
       "1                                    gggctggggcggggggaggg  \n",
       "2                             GGGTGGTAGGTGCAGAGACGGGAGGGG  \n",
       "3                                     GGGTCTGGGGGGGAAGGTG  \n",
       "4                                GGAGCCGGGAGGTGGGGAACAGGG  \n",
       "...                                                   ...  \n",
       "732447                                 gggcgggcgggctgaggg  \n",
       "732448                        gggtgagggtgagggttggggttgggg  \n",
       "732449  ggggttggggttggggttggggttggggttagggtttgggtttagg...  \n",
       "732450                       gggtgtgtgtgggtgtggtgtgtgtggg  \n",
       "732451                      gggtgtgggtgtgggtgtgggtgtgtggg  \n",
       "\n",
       "[732452 rows x 9 columns]"
      ]
     },
     "execution_count": 4,
     "metadata": {},
     "output_type": "execute_result"
    }
   ],
   "source": [
    "file = open('C:/Users/BlueC/Documents/Mines/Santé/Code/annotated_G4plus_categories_explicit.csv')\n",
    "reader = pd.read_csv(file)\n",
    "reader"
   ]
  },
  {
   "cell_type": "code",
   "execution_count": 6,
   "metadata": {},
   "outputs": [
    {
     "name": "stdout",
     "output_type": "stream",
     "text": [
      "chr 1\n",
      "0\n",
      "10000\n",
      "20000\n",
      "30000\n",
      "40000\n",
      "50000\n",
      "60000\n",
      "fini\n",
      "chr 2\n",
      "0\n",
      "10000\n",
      "20000\n",
      "30000\n",
      "40000\n",
      "50000\n",
      "fini\n",
      "chr 3\n",
      "0\n",
      "10000\n",
      "20000\n",
      "30000\n",
      "40000\n",
      "fini\n",
      "chr 4\n",
      "0\n",
      "10000\n",
      "20000\n",
      "30000\n",
      "fini\n",
      "chr 5\n",
      "0\n",
      "10000\n",
      "20000\n",
      "30000\n",
      "fini\n",
      "chr 6\n",
      "0\n",
      "10000\n",
      "20000\n",
      "30000\n",
      "fini\n",
      "chr 7\n",
      "0\n",
      "10000\n",
      "20000\n",
      "30000\n",
      "40000\n",
      "fini\n",
      "chr 8\n",
      "0\n",
      "10000\n",
      "20000\n",
      "30000\n",
      "fini\n",
      "chr 9\n",
      "0\n",
      "10000\n",
      "20000\n",
      "30000\n",
      "fini\n",
      "chr 10\n",
      "0\n",
      "10000\n",
      "20000\n",
      "30000\n",
      "fini\n",
      "chr 11\n",
      "0\n",
      "10000\n",
      "20000\n",
      "30000\n",
      "40000\n",
      "fini\n",
      "chr 12\n",
      "0\n",
      "10000\n",
      "20000\n",
      "30000\n",
      "fini\n",
      "chr 13\n",
      "0\n",
      "10000\n",
      "fini\n",
      "chr 14\n",
      "0\n",
      "10000\n",
      "20000\n",
      "fini\n",
      "chr 15\n",
      "0\n",
      "10000\n",
      "20000\n",
      "fini\n",
      "chr 16\n",
      "0\n",
      "10000\n",
      "20000\n",
      "30000\n",
      "fini\n",
      "chr 17\n",
      "0\n",
      "10000\n",
      "20000\n",
      "30000\n",
      "fini\n",
      "chr 18\n",
      "0\n",
      "10000\n",
      "fini\n",
      "chr 19\n",
      "0\n",
      "10000\n",
      "20000\n",
      "30000\n",
      "40000\n",
      "fini\n",
      "chr 20\n",
      "0\n",
      "10000\n",
      "20000\n",
      "fini\n",
      "chr 21\n",
      "0\n",
      "10000\n",
      "fini\n",
      "chr 22\n",
      "0\n",
      "10000\n",
      "20000\n",
      "fini\n",
      "chr X\n",
      "0\n",
      "10000\n",
      "20000\n",
      "fini\n",
      "chr Y\n",
      "0\n",
      "fini\n"
     ]
    }
   ],
   "source": [
    "liste = [i for i in range (1,23)] + ['X','Y']\n",
    "for i_chrom in (liste):\n",
    "    print(\"chr\",i_chrom)\n",
    "    file2 = open(f'C:/Users/BlueC/Documents/Mines/Santé/Code/chr/chr_{i_chrom}_2')\n",
    "    my_col = ['chr', 'pos', 'name', 'orig', 'mut', '%', 'PASS','INFOS', 'AA']\n",
    "    separateurs = \"\\t|AA=\"\n",
    "    reader2 = pd.read_csv(file2, sep = separateurs, names = my_col, header = None, engine ='python')\n",
    "    reader2 = reader2.drop_duplicates()\n",
    "    reader2 = reader2.reset_index(drop=True)\n",
    "    \n",
    "    my_col = ['chr', 'pos', 'name', 'orig', 'mut', '%', 'PASS','INFOS', 'AA', 'start', 'end', 'type', 'distClosestG4', 'CGI', 'Ori', 'TSS','sequence']\n",
    "    col_G4 = ['start', 'end', 'type', 'distClosestG4', 'CGI', 'Ori', 'TSS','sequence']\n",
    "    table_finale = pd.DataFrame(columns = my_col)\n",
    "    table_finale[['chr', 'pos', 'name', 'orig', 'mut', '%', 'PASS','INFOS', 'AA']] = reader2\n",
    "\n",
    "    G4_table = reader[reader['chr'] == 'chr'+str(i_chrom)]\n",
    "    G4_table = G4_table.reset_index(drop = True)\n",
    "    \n",
    "    n_mut = len(reader2)\n",
    "    n_G4 = len(G4_table)\n",
    "    i_G4 = 0\n",
    "    #start_table = G4_table['start']\n",
    "    end_table = G4_table['end']\n",
    "    pos_table = reader2['pos']\n",
    "\n",
    "    for i_mut in range (n_mut):\n",
    "        #start = start_table.loc[i_G4]\n",
    "        end = end_table.loc[i_G4]\n",
    "        pos = pos_table.loc[i_mut]\n",
    "        while pos > end :\n",
    "            i_G4 += 1\n",
    "            end = end_table.loc[i_G4]\n",
    "        table_finale.loc[i_mut,col_G4] = G4_table.loc[i_G4]\n",
    "        if i_mut % 10000 == 0:\n",
    "            print(i_mut)\n",
    "    print(\"fini\")\n",
    "    table_finale = table_finale[table_finale['pos']>=table_finale['start']]\n",
    "    table_finale.to_csv(f'C:/Users/BlueC/Documents/Mines/Santé/Code/chr/chr_{i_chrom}_final.csv', index = False)\n",
    "    "
   ]
  },
  {
   "cell_type": "code",
   "execution_count": null,
   "metadata": {},
   "outputs": [],
   "source": [
    "liste = [i for i in range (1,23)] + ['X','Y']\n",
    "for i_chrom in (liste):\n",
    "    print(\"chr\",i_chrom)\n",
    "    file2 = open(f'C:/Users/BlueC/Documents/Mines/Santé/Code/chr/chr_{i_chrom}_final.csv')\n",
    "    reader2 = pd.read_csv(file2)\n",
    "    reader2 = reader2.drop('Unnamed: 0', axis=1)\n",
    "    reader2 = reader2.drop_duplicates()\n",
    "    \n",
    "    reader2 = reader2[reader2['pos'] >= reader2['start']]\n",
    "    reader2 = reader2.reset_index(drop=True)\n",
    "    \n",
    "    print(\"fini\")\n",
    "    reader2.to_csv(f'C:/Users/BlueC/Documents/Mines/Santé/Code/chr/chr_{i_chrom}_final.csv', index = False)\n",
    "    "
   ]
  },
  {
   "cell_type": "code",
   "execution_count": null,
   "metadata": {},
   "outputs": [],
   "source": [
    "file2.close()"
   ]
  },
  {
   "cell_type": "markdown",
   "metadata": {},
   "source": [
    "# Pour fichiers randoms"
   ]
  },
  {
   "cell_type": "code",
   "execution_count": null,
   "metadata": {},
   "outputs": [],
   "source": [
    "import pandas as pd\n",
    "from matplotlib import pyplot as plt\n",
    "import numpy as np\n",
    "import statistics"
   ]
  },
  {
   "cell_type": "code",
   "execution_count": null,
   "metadata": {},
   "outputs": [],
   "source": [
    "file = open('C:/Users/BlueC/Documents/Mines/Santé/Code/random_G4_explicit.csv')\n",
    "reader = pd.read_csv(file, delimiter=',')"
   ]
  },
  {
   "cell_type": "code",
   "execution_count": null,
   "metadata": {},
   "outputs": [],
   "source": [
    "i_chrom = '6'"
   ]
  },
  {
   "cell_type": "code",
   "execution_count": null,
   "metadata": {},
   "outputs": [],
   "source": [
    "file2 = open(f'C:/Users/BlueC/Documents/Mines/Santé/Code/chr_random/chr_random_{i_chrom}_sansN')\n",
    "my_col = ['chr', 'pos', 'name', 'orig', 'mut', '%', 'PASS','INFOS', 'AA']\n",
    "separateurs = \"\\t|AA=\"\n",
    "reader2 = pd.read_csv(file2, sep = separateurs, names = my_col, header = None, engine ='python')\n",
    "reader2 = reader2.drop_duplicates()\n",
    "reader2 = reader2.reset_index(drop=True)"
   ]
  },
  {
   "cell_type": "code",
   "execution_count": null,
   "metadata": {},
   "outputs": [],
   "source": [
    "my_col = ['chr', 'pos', 'name', 'orig', 'mut', '%', 'PASS','INFOS', 'AA', 'start', 'end', 'type', 'distClosestG4', 'CGI', 'Ori', 'TSS', 'sequence']\n",
    "col_G4 = ['start', 'end', 'type', 'distClosestG4', 'CGI', 'Ori', 'TSS', 'sequence']\n",
    "table_finale = pd.DataFrame(columns = my_col)\n",
    "table_finale[['chr', 'pos', 'name', 'orig', 'mut', '%', 'PASS','INFOS', 'AA']] = reader2\n",
    "\n",
    "G4_table = reader[reader['chr'] == 'chr'+str(i_chrom)]\n",
    "G4_table = G4_table.reset_index(drop = True)"
   ]
  },
  {
   "cell_type": "code",
   "execution_count": null,
   "metadata": {},
   "outputs": [],
   "source": [
    "table_finale"
   ]
  },
  {
   "cell_type": "code",
   "execution_count": null,
   "metadata": {},
   "outputs": [],
   "source": [
    "G4_table"
   ]
  },
  {
   "cell_type": "code",
   "execution_count": null,
   "metadata": {},
   "outputs": [],
   "source": [
    "n_mut = len(reader2)\n",
    "n_G4 = len(G4_table)\n",
    "i_G4 = 0\n",
    "#start_table = G4_table['start']\n",
    "end_table = G4_table['end']\n",
    "pos_table = reader2['pos']\n",
    "\n",
    "for i_mut in range (n_mut):\n",
    "    #start = start_table.loc[i_G4]\n",
    "    end = end_table.loc[i_G4]\n",
    "    pos = pos_table.loc[i_mut]\n",
    "    while pos > end :\n",
    "        i_G4 += 1\n",
    "        end = end_table.loc[i_G4]\n",
    "    table_finale.loc[i_mut,col_G4] = G4_table.loc[i_G4]\n",
    "    if i_mut % 1000 == 0:\n",
    "        print(i_mut)\n",
    "print(\"fini\")\n",
    "table_finale = table_finale[table_finale['pos']>=table_finale['start']]"
   ]
  },
  {
   "cell_type": "code",
   "execution_count": null,
   "metadata": {},
   "outputs": [],
   "source": [
    "table_finale = table_finale[table_finale['pos']>=table_finale['start']]"
   ]
  },
  {
   "cell_type": "code",
   "execution_count": null,
   "metadata": {},
   "outputs": [],
   "source": [
    "table_finale[table_finale['sequence'].str.contains('N')]"
   ]
  },
  {
   "cell_type": "code",
   "execution_count": null,
   "metadata": {},
   "outputs": [],
   "source": [
    "table_finale.to_csv(f'chr_random_{i_chrom}_final_sansN.csv', index=False)"
   ]
  },
  {
   "cell_type": "markdown",
   "metadata": {},
   "source": [
    "### Automatique"
   ]
  },
  {
   "cell_type": "code",
   "execution_count": null,
   "metadata": {},
   "outputs": [],
   "source": [
    "liste = [i for i in range (17,23)] + ['X','Y']\n",
    "for i_chrom in (liste):\n",
    "    print(\"chr\",i_chrom)\n",
    "    file2 = open(f'C:/Users/BlueC/Documents/Mines/Santé/Code/chr_random/chr_random_{i_chrom}_sansN')\n",
    "    my_col = ['chr', 'pos', 'name', 'orig', 'mut', '%', 'PASS','INFOS', 'AA']\n",
    "    separateurs = \"\\t|AA=\"\n",
    "    reader2 = pd.read_csv(file2, sep = separateurs, names = my_col, header = None, engine ='python')\n",
    "    reader2 = reader2.drop_duplicates()\n",
    "    reader2 = reader2.reset_index(drop=True)\n",
    "    \n",
    "    my_col = ['chr', 'pos', 'name', 'orig', 'mut', '%', 'PASS','INFOS', 'AA', 'start', 'end', 'type', 'distClosestG4', 'CGI', 'Ori', 'TSS', 'sequence']\n",
    "    col_G4 = ['start', 'end', 'type', 'distClosestG4', 'CGI', 'Ori', 'TSS', 'sequence']\n",
    "    table_finale = pd.DataFrame(columns = my_col)\n",
    "    table_finale[['chr', 'pos', 'name', 'orig', 'mut', '%', 'PASS','INFOS', 'AA']] = reader2\n",
    "\n",
    "    G4_table = reader[reader['chr'] == 'chr'+str(i_chrom)]\n",
    "    G4_table = G4_table.reset_index(drop = True)\n",
    "    \n",
    "    n_mut = len(reader2)\n",
    "    n_G4 = len(G4_table)\n",
    "    i_G4 = 0\n",
    "    #start_table = G4_table['start']\n",
    "    end_table = G4_table['end']\n",
    "    pos_table = reader2['pos']\n",
    "\n",
    "    for i_mut in range (n_mut):\n",
    "        #start = start_table.loc[i_G4]\n",
    "        end = end_table.loc[i_G4]\n",
    "        pos = pos_table.loc[i_mut]\n",
    "        while pos > end :\n",
    "            i_G4 += 1\n",
    "            end = end_table.loc[i_G4]\n",
    "        table_finale.loc[i_mut,col_G4] = G4_table.loc[i_G4]\n",
    "        if i_mut % 10000 == 0:\n",
    "            print(i_mut)\n",
    "    print(\"fini\")\n",
    "    \n",
    "    table_finale = table_finale[table_finale['pos']>=table_finale['start']]\n",
    "    table_finale.to_csv(f'chr_random_{i_chrom}_final_sansN.csv', index=False)\n",
    "    "
   ]
  },
  {
   "cell_type": "markdown",
   "metadata": {},
   "source": [
    "# Vérification des fichiers "
   ]
  },
  {
   "cell_type": "code",
   "execution_count": null,
   "metadata": {},
   "outputs": [],
   "source": [
    "file = open('C:/Users/BlueC/Documents/Mines/Santé/Code/random_G4_explicit.csv')\n",
    "reader = pd.read_csv(file, delimiter=',')"
   ]
  },
  {
   "cell_type": "code",
   "execution_count": null,
   "metadata": {},
   "outputs": [],
   "source": [
    "reader_chr2 = reader[reader['chr'] == 'chr2']"
   ]
  },
  {
   "cell_type": "code",
   "execution_count": null,
   "metadata": {},
   "outputs": [],
   "source": [
    "reader_chr2[reader_chr2['sequence'].str.contains('N')]"
   ]
  },
  {
   "cell_type": "code",
   "execution_count": null,
   "metadata": {},
   "outputs": [],
   "source": [
    "file2 = open('C:/Users/BlueC/Documents/Mines/Santé/Code/random_G4_explicit_sansN.csv')\n",
    "reader2 = pd.read_csv(file2, delimiter=',')"
   ]
  },
  {
   "cell_type": "code",
   "execution_count": null,
   "metadata": {},
   "outputs": [],
   "source": [
    "reader2_chr2 = reader2[reader2['chr'] == 'chr2']\n",
    "reader2_chr2"
   ]
  },
  {
   "cell_type": "code",
   "execution_count": null,
   "metadata": {},
   "outputs": [],
   "source": [
    "file3 = open('C:/Users/BlueC/Documents/Mines/Santé/Code/chr_random_2_final_sansN.csv')\n",
    "reader3 = pd.read_csv(file3)\n",
    "reader3.drop_duplicates()\n"
   ]
  },
  {
   "cell_type": "code",
   "execution_count": null,
   "metadata": {},
   "outputs": [],
   "source": [
    "file3 = open('C:/Users/BlueC/Documents/Mines/Santé/Code/chr/chr_2_final.csv')\n",
    "reader4 = pd.read_csv(file3)\n",
    "reader4[reader4['pos']<reader4['start']]"
   ]
  },
  {
   "cell_type": "code",
   "execution_count": null,
   "metadata": {},
   "outputs": [],
   "source": [
    "reader4 = reader4.drop_duplicates()\n",
    "cond = reader4[(reader4['pos']>= 5052280)]\n",
    "cond = cond[cond['pos'] <  5052314]\n",
    "cond"
   ]
  },
  {
   "cell_type": "code",
   "execution_count": null,
   "metadata": {},
   "outputs": [],
   "source": [
    "file3 = open('C:/Users/BlueC/Documents/Mines/Santé/Code/chr_random_1_final_sansN.csv')\n",
    "reader5 = pd.read_csv(file3, sep= ',')"
   ]
  },
  {
   "cell_type": "code",
   "execution_count": null,
   "metadata": {},
   "outputs": [],
   "source": [
    "reader5"
   ]
  },
  {
   "cell_type": "code",
   "execution_count": null,
   "metadata": {},
   "outputs": [],
   "source": []
  }
 ],
 "metadata": {
  "kernelspec": {
   "display_name": "Python 3",
   "language": "python",
   "name": "python3"
  },
  "language_info": {
   "codemirror_mode": {
    "name": "ipython",
    "version": 3
   },
   "file_extension": ".py",
   "mimetype": "text/x-python",
   "name": "python",
   "nbconvert_exporter": "python",
   "pygments_lexer": "ipython3",
   "version": "3.8.3"
  }
 },
 "nbformat": 4,
 "nbformat_minor": 4
}
