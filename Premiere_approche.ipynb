{
 "cells": [
  {
   "cell_type": "markdown",
   "metadata": {},
   "source": [
    "### DL des données"
   ]
  },
  {
   "cell_type": "code",
   "execution_count": 1,
   "metadata": {},
   "outputs": [],
   "source": [
    "import pandas as pd\n",
    "from matplotlib import pyplot as plt\n",
    "import numpy as np\n",
    "import statistics\n",
    "\n",
    "file = open('C:/Users/BlueC/Documents/Mines/Santé/Code/annotated_G4plus_categories.bed')\n",
    "reader = pd.read_csv(file, delimiter='\\t')"
   ]
  },
  {
   "cell_type": "code",
   "execution_count": 15,
   "metadata": {},
   "outputs": [
    {
     "data": {
      "text/html": [
       "<div>\n",
       "<style scoped>\n",
       "    .dataframe tbody tr th:only-of-type {\n",
       "        vertical-align: middle;\n",
       "    }\n",
       "\n",
       "    .dataframe tbody tr th {\n",
       "        vertical-align: top;\n",
       "    }\n",
       "\n",
       "    .dataframe thead th {\n",
       "        text-align: right;\n",
       "    }\n",
       "</style>\n",
       "<table border=\"1\" class=\"dataframe\">\n",
       "  <thead>\n",
       "    <tr style=\"text-align: right;\">\n",
       "      <th></th>\n",
       "      <th>chr</th>\n",
       "      <th>start</th>\n",
       "      <th>end</th>\n",
       "      <th>type</th>\n",
       "      <th>distClosestG4</th>\n",
       "      <th>CGI</th>\n",
       "      <th>Ori</th>\n",
       "      <th>TSS</th>\n",
       "    </tr>\n",
       "  </thead>\n",
       "  <tbody>\n",
       "    <tr>\n",
       "      <th>0</th>\n",
       "      <td>chr1</td>\n",
       "      <td>11008</td>\n",
       "      <td>11026</td>\n",
       "      <td>Canonical</td>\n",
       "      <td>33</td>\n",
       "      <td>0</td>\n",
       "      <td>0</td>\n",
       "      <td>0</td>\n",
       "    </tr>\n",
       "    <tr>\n",
       "      <th>1</th>\n",
       "      <td>chr1</td>\n",
       "      <td>11058</td>\n",
       "      <td>11078</td>\n",
       "      <td>Canonical</td>\n",
       "      <td>33</td>\n",
       "      <td>0</td>\n",
       "      <td>0</td>\n",
       "      <td>0</td>\n",
       "    </tr>\n",
       "    <tr>\n",
       "      <th>2</th>\n",
       "      <td>chr1</td>\n",
       "      <td>12487</td>\n",
       "      <td>12514</td>\n",
       "      <td>Bulge</td>\n",
       "      <td>1410</td>\n",
       "      <td>0</td>\n",
       "      <td>0</td>\n",
       "      <td>0</td>\n",
       "    </tr>\n",
       "    <tr>\n",
       "      <th>3</th>\n",
       "      <td>chr1</td>\n",
       "      <td>14664</td>\n",
       "      <td>14683</td>\n",
       "      <td>Bulge</td>\n",
       "      <td>1267</td>\n",
       "      <td>0</td>\n",
       "      <td>0</td>\n",
       "      <td>0</td>\n",
       "    </tr>\n",
       "    <tr>\n",
       "      <th>4</th>\n",
       "      <td>chr1</td>\n",
       "      <td>15949</td>\n",
       "      <td>15973</td>\n",
       "      <td>Bulge</td>\n",
       "      <td>687</td>\n",
       "      <td>0</td>\n",
       "      <td>0</td>\n",
       "      <td>0</td>\n",
       "    </tr>\n",
       "  </tbody>\n",
       "</table>\n",
       "</div>"
      ],
      "text/plain": [
       "    chr  start    end       type  distClosestG4  CGI  Ori  TSS\n",
       "0  chr1  11008  11026  Canonical             33    0    0    0\n",
       "1  chr1  11058  11078  Canonical             33    0    0    0\n",
       "2  chr1  12487  12514      Bulge           1410    0    0    0\n",
       "3  chr1  14664  14683      Bulge           1267    0    0    0\n",
       "4  chr1  15949  15973      Bulge            687    0    0    0"
      ]
     },
     "execution_count": 15,
     "metadata": {},
     "output_type": "execute_result"
    }
   ],
   "source": [
    "reader.head()"
   ]
  },
  {
   "cell_type": "code",
   "execution_count": 16,
   "metadata": {},
   "outputs": [
    {
     "data": {
      "text/html": [
       "<div>\n",
       "<style scoped>\n",
       "    .dataframe tbody tr th:only-of-type {\n",
       "        vertical-align: middle;\n",
       "    }\n",
       "\n",
       "    .dataframe tbody tr th {\n",
       "        vertical-align: top;\n",
       "    }\n",
       "\n",
       "    .dataframe thead th {\n",
       "        text-align: right;\n",
       "    }\n",
       "</style>\n",
       "<table border=\"1\" class=\"dataframe\">\n",
       "  <thead>\n",
       "    <tr style=\"text-align: right;\">\n",
       "      <th></th>\n",
       "      <th>chr</th>\n",
       "      <th>start</th>\n",
       "      <th>end</th>\n",
       "      <th>type</th>\n",
       "      <th>distClosestG4</th>\n",
       "      <th>CGI</th>\n",
       "      <th>Ori</th>\n",
       "      <th>TSS</th>\n",
       "    </tr>\n",
       "  </thead>\n",
       "  <tbody>\n",
       "    <tr>\n",
       "      <th>0</th>\n",
       "      <td>chr1</td>\n",
       "      <td>11008</td>\n",
       "      <td>11026</td>\n",
       "      <td>Canonical</td>\n",
       "      <td>33</td>\n",
       "      <td>0</td>\n",
       "      <td>0</td>\n",
       "      <td>0</td>\n",
       "    </tr>\n",
       "    <tr>\n",
       "      <th>1</th>\n",
       "      <td>chr1</td>\n",
       "      <td>11058</td>\n",
       "      <td>11078</td>\n",
       "      <td>Canonical</td>\n",
       "      <td>33</td>\n",
       "      <td>0</td>\n",
       "      <td>0</td>\n",
       "      <td>0</td>\n",
       "    </tr>\n",
       "    <tr>\n",
       "      <th>2</th>\n",
       "      <td>chr1</td>\n",
       "      <td>12487</td>\n",
       "      <td>12514</td>\n",
       "      <td>Bulge</td>\n",
       "      <td>1410</td>\n",
       "      <td>0</td>\n",
       "      <td>0</td>\n",
       "      <td>0</td>\n",
       "    </tr>\n",
       "    <tr>\n",
       "      <th>3</th>\n",
       "      <td>chr1</td>\n",
       "      <td>14664</td>\n",
       "      <td>14683</td>\n",
       "      <td>Bulge</td>\n",
       "      <td>1267</td>\n",
       "      <td>0</td>\n",
       "      <td>0</td>\n",
       "      <td>0</td>\n",
       "    </tr>\n",
       "    <tr>\n",
       "      <th>4</th>\n",
       "      <td>chr1</td>\n",
       "      <td>15949</td>\n",
       "      <td>15973</td>\n",
       "      <td>Bulge</td>\n",
       "      <td>687</td>\n",
       "      <td>0</td>\n",
       "      <td>0</td>\n",
       "      <td>0</td>\n",
       "    </tr>\n",
       "    <tr>\n",
       "      <th>...</th>\n",
       "      <td>...</td>\n",
       "      <td>...</td>\n",
       "      <td>...</td>\n",
       "      <td>...</td>\n",
       "      <td>...</td>\n",
       "      <td>...</td>\n",
       "      <td>...</td>\n",
       "      <td>...</td>\n",
       "    </tr>\n",
       "    <tr>\n",
       "      <th>732447</th>\n",
       "      <td>chrY</td>\n",
       "      <td>59362173</td>\n",
       "      <td>59362191</td>\n",
       "      <td>Canonical</td>\n",
       "      <td>370</td>\n",
       "      <td>0</td>\n",
       "      <td>0</td>\n",
       "      <td>0</td>\n",
       "    </tr>\n",
       "    <tr>\n",
       "      <th>732448</th>\n",
       "      <td>chrY</td>\n",
       "      <td>59362560</td>\n",
       "      <td>59362587</td>\n",
       "      <td>Canonical</td>\n",
       "      <td>9</td>\n",
       "      <td>0</td>\n",
       "      <td>0</td>\n",
       "      <td>0</td>\n",
       "    </tr>\n",
       "    <tr>\n",
       "      <th>732449</th>\n",
       "      <td>chrY</td>\n",
       "      <td>59362595</td>\n",
       "      <td>59363470</td>\n",
       "      <td>G-track</td>\n",
       "      <td>9</td>\n",
       "      <td>0</td>\n",
       "      <td>0</td>\n",
       "      <td>0</td>\n",
       "    </tr>\n",
       "    <tr>\n",
       "      <th>732450</th>\n",
       "      <td>chrY</td>\n",
       "      <td>59363480</td>\n",
       "      <td>59363508</td>\n",
       "      <td>Bulge</td>\n",
       "      <td>11</td>\n",
       "      <td>0</td>\n",
       "      <td>0</td>\n",
       "      <td>0</td>\n",
       "    </tr>\n",
       "    <tr>\n",
       "      <th>732451</th>\n",
       "      <td>chrY</td>\n",
       "      <td>59363518</td>\n",
       "      <td>59363547</td>\n",
       "      <td>Canonical</td>\n",
       "      <td>11</td>\n",
       "      <td>0</td>\n",
       "      <td>0</td>\n",
       "      <td>0</td>\n",
       "    </tr>\n",
       "  </tbody>\n",
       "</table>\n",
       "<p>732452 rows × 8 columns</p>\n",
       "</div>"
      ],
      "text/plain": [
       "         chr     start       end       type  distClosestG4  CGI  Ori  TSS\n",
       "0       chr1     11008     11026  Canonical             33    0    0    0\n",
       "1       chr1     11058     11078  Canonical             33    0    0    0\n",
       "2       chr1     12487     12514      Bulge           1410    0    0    0\n",
       "3       chr1     14664     14683      Bulge           1267    0    0    0\n",
       "4       chr1     15949     15973      Bulge            687    0    0    0\n",
       "...      ...       ...       ...        ...            ...  ...  ...  ...\n",
       "732447  chrY  59362173  59362191  Canonical            370    0    0    0\n",
       "732448  chrY  59362560  59362587  Canonical              9    0    0    0\n",
       "732449  chrY  59362595  59363470    G-track              9    0    0    0\n",
       "732450  chrY  59363480  59363508      Bulge             11    0    0    0\n",
       "732451  chrY  59363518  59363547  Canonical             11    0    0    0\n",
       "\n",
       "[732452 rows x 8 columns]"
      ]
     },
     "execution_count": 16,
     "metadata": {},
     "output_type": "execute_result"
    }
   ],
   "source": [
    "reader"
   ]
  },
  {
   "cell_type": "markdown",
   "metadata": {},
   "source": [
    "### Première approche sur les données"
   ]
  },
  {
   "cell_type": "markdown",
   "metadata": {},
   "source": [
    "##### Boîte à moustache des distances, quantiles"
   ]
  },
  {
   "cell_type": "code",
   "execution_count": 17,
   "metadata": {},
   "outputs": [
    {
     "data": {
      "image/png": "[encoded data removed]",
      "text/plain": [
       "<Figure size 432x288 with 1 Axes>"
      ]
     },
     "metadata": {
      "needs_background": "light"
     },
     "output_type": "display_data"
    },
    {
     "name": "stdout",
     "output_type": "stream",
     "text": [
      "0.25     33.00\n",
      "0.50    160.00\n",
      "0.75    784.25\n",
      "Name: distClosestG4, dtype: float64\n",
      "nb de G4 en cluster :  187356\n",
      "Taux de G4 en cluster :  25.57928710686844 %\n"
     ]
    }
   ],
   "source": [
    "### Boîte à moustache des distances, quantiles\n",
    "\n",
    "dist = reader['distClosestG4']\n",
    "\n",
    "plt.boxplot(dist)\n",
    "plt.ylim(0,5000)\n",
    "plt.ylabel(\"Distance in pb\")\n",
    "plt.title(\"Distribution of the distance to the closest G4\")\n",
    "plt.savefig('C:/Users/BlueC/Documents/Mines/Santé/Données et commentaires/fig1.jpg')\n",
    "plt.show()\n",
    "\n",
    "print(dist[:20].quantile([0.25,0.5,0.75]))\n",
    "\n",
    "nb_cluster = len(reader[dist <= 100])\n",
    "print(\"nb de G4 en cluster : \",  nb_cluster)\n",
    "print(\"Taux de G4 en cluster : \", nb_cluster/len(dist)*100, \"%\")\n"
   ]
  },
  {
   "cell_type": "markdown",
   "metadata": {},
   "source": [
    "##### Distance au plus proche voisin\n"
   ]
  },
  {
   "cell_type": "code",
   "execution_count": 18,
   "metadata": {},
   "outputs": [
    {
     "name": "stdout",
     "output_type": "stream",
     "text": [
      "178979 299994 2249 230280 20950\n"
     ]
    },
    {
     "data": {
      "image/png": "[encoded data removed]",
      "text/plain": [
       "<Figure size 432x288 with 1 Axes>"
      ]
     },
     "metadata": {
      "needs_background": "light"
     },
     "output_type": "display_data"
    }
   ],
   "source": [
    "### Nb de G4 de chaque catégorie\n",
    "\n",
    "cat = reader['type']\n",
    "\n",
    "nb_can = len(reader[cat == 'Canonical'])\n",
    "nb_bulg = len(reader[cat == 'Bulge'])\n",
    "nb_gtrack = len(reader[cat == 'G-track'])\n",
    "nb_gvbq = len(reader[cat == 'GVBQ'])\n",
    "nb_longloop = len(reader[cat == 'LongLoop'])\n",
    "\n",
    "print(nb_can, nb_bulg, nb_gtrack, nb_gvbq, nb_longloop)\n",
    "\n",
    "### Distance aux G4 les plus proches pour chaque catégorie\n",
    "\n",
    "can_dist = reader[cat == 'Canonical']['distClosestG4']\n",
    "bulg_dist = reader[cat == 'Bulge']['distClosestG4']\n",
    "gtrack_dist = reader[cat == 'G-track']['distClosestG4']\n",
    "GVBQ_dist = reader[cat == 'GVBQ']['distClosestG4']\n",
    "longloop_dist = reader[cat == 'LongLoop']['distClosestG4']\n",
    "\n",
    "plt.boxplot([can_dist, bulg_dist, gtrack_dist, GVBQ_dist, longloop_dist])\n",
    "\n",
    "plt.gca().xaxis.set_ticklabels(['Canonical', 'Bulge', 'G-track', 'GVBQ', 'LongLoop'])\n",
    "\n",
    "plt.ylim(0,5000)\n",
    "plt.ylabel(\"Distance in pb\")\n",
    "plt.title('Distance to closest G4')\n",
    "plt.savefig('C:/Users/BlueC/Documents/Mines/Santé/Données et commentaires/fig2.jpg')\n",
    "\n",
    "plt.show()\n"
   ]
  },
  {
   "cell_type": "code",
   "execution_count": 19,
   "metadata": {},
   "outputs": [
    {
     "data": {
      "image/png": "[encoded data removed]",
      "text/plain": [
       "<Figure size 432x288 with 1 Axes>"
      ]
     },
     "metadata": {
      "needs_background": "light"
     },
     "output_type": "display_data"
    },
    {
     "data": {
      "image/png": "[encoded data removed]",
      "text/plain": [
       "<Figure size 432x288 with 1 Axes>"
      ]
     },
     "metadata": {
      "needs_background": "light"
     },
     "output_type": "display_data"
    },
    {
     "data": {
      "image/png": "[encoded data removed]",
      "text/plain": [
       "<Figure size 432x288 with 1 Axes>"
      ]
     },
     "metadata": {
      "needs_background": "light"
     },
     "output_type": "display_data"
    },
    {
     "data": {
      "image/png": "[encoded data removed]",
      "text/plain": [
       "<Figure size 432x288 with 1 Axes>"
      ]
     },
     "metadata": {
      "needs_background": "light"
     },
     "output_type": "display_data"
    },
    {
     "data": {
      "image/png": "[encoded data removed]",
      "text/plain": [
       "<Figure size 432x288 with 1 Axes>"
      ]
     },
     "metadata": {
      "needs_background": "light"
     },
     "output_type": "display_data"
    }
   ],
   "source": [
    "#Représentation sous forme d'un diagramme en bâtons \n",
    "\n",
    "plt.hist(can_dist, range = (0,5000), bins = 100)\n",
    "plt.xlabel('Distance')\n",
    "plt.ylabel('Occurences')\n",
    "plt.title('Canonical')\n",
    "plt.show()\n",
    "\n",
    "plt.hist(bulg_dist, range = (0,5000), bins = 100)\n",
    "plt.xlabel('Distance')\n",
    "plt.ylabel('Occurences')\n",
    "plt.title('Bulge')\n",
    "plt.show()\n",
    "\n",
    "plt.hist(gtrack_dist, range = (0,5000), bins = 100)\n",
    "plt.xlabel('Distance')\n",
    "plt.ylabel('Occurences')\n",
    "plt.title('G-track')\n",
    "plt.show()\n",
    "\n",
    "plt.hist(GVBQ_dist, range = (0,5000), bins = 100)\n",
    "plt.xlabel('Distance')\n",
    "plt.ylabel('Occurences')\n",
    "plt.title('GVBQ')\n",
    "plt.show()\n",
    "\n",
    "plt.hist(longloop_dist, range = (0,5000), bins = 100)\n",
    "plt.xlabel('Distance')\n",
    "plt.ylabel('Occurences')\n",
    "plt.title('LongLoop')\n",
    "plt.show()"
   ]
  },
  {
   "cell_type": "markdown",
   "metadata": {},
   "source": [
    "##### G4 proches des Ori / TSS"
   ]
  },
  {
   "cell_type": "code",
   "execution_count": 22,
   "metadata": {},
   "outputs": [
    {
     "name": "stdout",
     "output_type": "stream",
     "text": [
      "Pourcentage de G4 proche d'une Ori :  34.909318289799195 %\n",
      "Pourcentage de G4 proche d'un TSS :  8.530115284004959 %\n"
     ]
    }
   ],
   "source": [
    "ori = reader[reader['Ori'] > 0]\n",
    "tss = reader[reader['TSS'] > 0]\n",
    "print(\"Pourcentage de G4 proche d'une Ori : \", len(ori)/len(reader)*100, \"%\")\n",
    "print(\"Pourcentage de G4 proche d'un TSS : \", len(tss)/len(reader)*100, \"%\")\n",
    "\n",
    "ori_cluster = len(ori[ori['distClosestG4']<101])\n",
    "tss_cluster = len(tss[tss['distClosestG4']<101])\n",
    "\n",
    "ori_canonical = len(ori[ori['type'] == 'Canonical'])\n",
    "tss_canonical = len(tss[tss['type'] == 'Canonical'])\n",
    "\n",
    "ori_bulge = len(ori[ori['type'] == 'Bulge'])\n",
    "tss_bulge = len(tss[tss['type'] == 'Bulge'])\n",
    "\n",
    "ori_gtrack = len(ori[ori['type'] == 'G-track'])\n",
    "tss_gtrack = len(tss[tss['type'] == 'G-track'])\n",
    "\n",
    "ori_GVBQ = len(ori[ori['type'] == 'GVBQ'])\n",
    "tss_GVBQ = len(tss[tss['type'] == 'GVBQ'])\n",
    "\n",
    "ori_longloop = len(ori[ori['type'] == 'LongLoop'])\n",
    "tss_longloop = len(tss[tss['type'] == 'LongLoop'])"
   ]
  },
  {
   "cell_type": "code",
   "execution_count": 23,
   "metadata": {},
   "outputs": [
    {
     "data": {
      "image/png": "[encoded data removed]",
      "text/plain": [
       "<Figure size 432x288 with 1 Axes>"
      ]
     },
     "metadata": {
      "needs_background": "light"
     },
     "output_type": "display_data"
    },
    {
     "data": {
      "image/png": "[encoded data removed]",
      "text/plain": [
       "<Figure size 432x288 with 1 Axes>"
      ]
     },
     "metadata": {
      "needs_background": "light"
     },
     "output_type": "display_data"
    }
   ],
   "source": [
    "y1 = np.array([ori_cluster, ori_canonical, ori_bulge, ori_gtrack, ori_GVBQ, ori_longloop])\n",
    "y2 = np.array([tss_cluster, tss_canonical, tss_bulge, tss_gtrack, tss_GVBQ, tss_longloop])\n",
    "x = np.arange(6)\n",
    "largeur = .35\n",
    "\n",
    "labels = ['Cluster', 'Canonical', 'Bulge', 'G-track', 'GVBQ', 'LongLoop']\n",
    "\n",
    "fig, ax = plt.subplots()\n",
    "r1 = ax.bar(x - largeur/2, y1, largeur)\n",
    "r2 = ax.bar(x + largeur/2, y2, largeur)\n",
    "\n",
    "ax.set_xticks(x)\n",
    "ax.set_xticklabels(labels)\n",
    "\n",
    "plt.legend(['Ori', 'TSS'])\n",
    "plt.title(\"Number of G4 close to Ori or TSS per category\")\n",
    "plt.savefig('C:/Users/BlueC/Documents/Mines/Santé/Données et commentaires/fig3.jpg')\n",
    "\n",
    "plt.show()\n",
    "\n",
    "n = np.array([nb_cluster, nb_can, nb_bulg, nb_gtrack, nb_gvbq, nb_longloop])\n",
    "\n",
    "fig, ax = plt.subplots()\n",
    "r1 = ax.bar(x - largeur/2, y1/n, largeur)\n",
    "r2 = ax.bar(x + largeur/2, y2/n, largeur)\n",
    "\n",
    "ax.set_xticks(x)\n",
    "ax.set_xticklabels(labels)\n",
    "\n",
    "plt.legend(['Ori', 'TSS'])\n",
    "plt.title(\"Rate of G4 close to Ori or TSS per category\")\n",
    "plt.savefig('C:/Users/BlueC/Documents/Mines/Santé/Données et commentaires/fig4.jpg')\n",
    "\n",
    "plt.show()"
   ]
  },
  {
   "cell_type": "markdown",
   "metadata": {},
   "source": [
    "##### Taille des G4"
   ]
  },
  {
   "cell_type": "code",
   "execution_count": 24,
   "metadata": {},
   "outputs": [
    {
     "name": "stdout",
     "output_type": "stream",
     "text": [
      "Taille moyenne d'un G4 :  26.88055736075538\n"
     ]
    }
   ],
   "source": [
    "length = reader['end'] - reader['start'] + 1\n",
    "length_mean = length.mean()\n",
    "print(\"Taille moyenne d'un G4 : \", length_mean)\n",
    "\n",
    "#Pas cohérent avec les chiffres de l'article (36.4 bp) \n",
    "#mais plus cohérent dans l'absolu (taille max d'un G4 = 3*4 + 7*3 = 33)"
   ]
  },
  {
   "cell_type": "code",
   "execution_count": 25,
   "metadata": {},
   "outputs": [
    {
     "name": "stdout",
     "output_type": "stream",
     "text": [
      "Taille moyenne d'un G4 canonique :  27.987769514859284\n"
     ]
    }
   ],
   "source": [
    "can = reader[cat == 'Canonical']\n",
    "length = can['end'] - can['start'] + 1\n",
    "length_mean_can = length.mean()\n",
    "print(\"Taille moyenne d'un G4 canonique : \", length_mean_can)"
   ]
  },
  {
   "cell_type": "code",
   "execution_count": 26,
   "metadata": {},
   "outputs": [
    {
     "name": "stdout",
     "output_type": "stream",
     "text": [
      "Taille moyenne d'un G4 LongLoop :  33.3272076372315\n"
     ]
    }
   ],
   "source": [
    "long = reader[cat == 'LongLoop']\n",
    "length = long['end'] - long['start'] + 1\n",
    "length_mean = length.mean()\n",
    "print(\"Taille moyenne d'un G4 LongLoop : \", length_mean)"
   ]
  },
  {
   "cell_type": "code",
   "execution_count": 27,
   "metadata": {},
   "outputs": [
    {
     "data": {
      "image/png": "[encoded data removed]",
      "text/plain": [
       "<Figure size 432x288 with 1 Axes>"
      ]
     },
     "metadata": {
      "needs_background": "light"
     },
     "output_type": "display_data"
    },
    {
     "name": "stdout",
     "output_type": "stream",
     "text": [
      "Moy :  27.987769514859284 , Var :  58.217223499357615\n"
     ]
    },
    {
     "data": {
      "image/png": "[encoded data removed]",
      "text/plain": [
       "<Figure size 432x288 with 1 Axes>"
      ]
     },
     "metadata": {
      "needs_background": "light"
     },
     "output_type": "display_data"
    },
    {
     "name": "stdout",
     "output_type": "stream",
     "text": [
      "Moy :  27.164529957265813 , Var :  28.645618832337007\n"
     ]
    }
   ],
   "source": [
    "can = reader[cat == 'Canonical']\n",
    "can_length = can['end'] - can['start'] + 1\n",
    "\n",
    "res = plt.hist(can_length, range = (0,80), bins = 80, density = True)\n",
    "plt.xlabel('Longueur')\n",
    "plt.title('Distribution of the length of canonical G4')\n",
    "plt.savefig('C:/Users/BlueC/Documents/Mines/Santé/Données et commentaires/fig5.jpg')\n",
    "plt.show()\n",
    "print(\"Moy : \", can_length.mean(),\", Var : \", can_length.var())\n",
    "\n",
    "bulg = reader[cat == 'Bulge']\n",
    "bulg_length = bulg['end'] - bulg['start'] + 1\n",
    "\n",
    "res2 = plt.hist(bulg_length, range = (0,80), bins = 80, density = True)\n",
    "plt.xlabel('Longueur')\n",
    "plt.title('Distribution of the length of Bulge G4')\n",
    "plt.savefig('C:/Users/BlueC/Documents/Mines/Santé/Données et commentaires/fig6.jpg')\n",
    "plt.show()\n",
    "print(\"Moy : \", bulg_length.mean(),\", Var : \", bulg_length.var())\n"
   ]
  },
  {
   "cell_type": "markdown",
   "metadata": {},
   "source": [
    "### Simulation d'un jeu de données aléatoire"
   ]
  },
  {
   "cell_type": "code",
   "execution_count": 12,
   "metadata": {},
   "outputs": [
    {
     "data": {
      "text/html": [
       "<div>\n",
       "<style scoped>\n",
       "    .dataframe tbody tr th:only-of-type {\n",
       "        vertical-align: middle;\n",
       "    }\n",
       "\n",
       "    .dataframe tbody tr th {\n",
       "        vertical-align: top;\n",
       "    }\n",
       "\n",
       "    .dataframe thead th {\n",
       "        text-align: right;\n",
       "    }\n",
       "</style>\n",
       "<table border=\"1\" class=\"dataframe\">\n",
       "  <thead>\n",
       "    <tr style=\"text-align: right;\">\n",
       "      <th></th>\n",
       "      <th>chr</th>\n",
       "      <th>nb</th>\n",
       "    </tr>\n",
       "  </thead>\n",
       "  <tbody>\n",
       "    <tr>\n",
       "      <th>0</th>\n",
       "      <td>chr1</td>\n",
       "      <td>249250621</td>\n",
       "    </tr>\n",
       "    <tr>\n",
       "      <th>1</th>\n",
       "      <td>chr2</td>\n",
       "      <td>243199373</td>\n",
       "    </tr>\n",
       "    <tr>\n",
       "      <th>2</th>\n",
       "      <td>chr3</td>\n",
       "      <td>198022430</td>\n",
       "    </tr>\n",
       "    <tr>\n",
       "      <th>3</th>\n",
       "      <td>chr4</td>\n",
       "      <td>191154276</td>\n",
       "    </tr>\n",
       "    <tr>\n",
       "      <th>4</th>\n",
       "      <td>chr5</td>\n",
       "      <td>180915260</td>\n",
       "    </tr>\n",
       "    <tr>\n",
       "      <th>5</th>\n",
       "      <td>chr6</td>\n",
       "      <td>171115067</td>\n",
       "    </tr>\n",
       "    <tr>\n",
       "      <th>6</th>\n",
       "      <td>chr7</td>\n",
       "      <td>159138663</td>\n",
       "    </tr>\n",
       "    <tr>\n",
       "      <th>7</th>\n",
       "      <td>chrX</td>\n",
       "      <td>155270560</td>\n",
       "    </tr>\n",
       "    <tr>\n",
       "      <th>8</th>\n",
       "      <td>chr8</td>\n",
       "      <td>146364022</td>\n",
       "    </tr>\n",
       "    <tr>\n",
       "      <th>9</th>\n",
       "      <td>chr9</td>\n",
       "      <td>141213431</td>\n",
       "    </tr>\n",
       "    <tr>\n",
       "      <th>10</th>\n",
       "      <td>chr10</td>\n",
       "      <td>135534747</td>\n",
       "    </tr>\n",
       "    <tr>\n",
       "      <th>11</th>\n",
       "      <td>chr11</td>\n",
       "      <td>135006516</td>\n",
       "    </tr>\n",
       "    <tr>\n",
       "      <th>12</th>\n",
       "      <td>chr12</td>\n",
       "      <td>133851895</td>\n",
       "    </tr>\n",
       "    <tr>\n",
       "      <th>13</th>\n",
       "      <td>chr13</td>\n",
       "      <td>115169878</td>\n",
       "    </tr>\n",
       "    <tr>\n",
       "      <th>14</th>\n",
       "      <td>chr14</td>\n",
       "      <td>107349540</td>\n",
       "    </tr>\n",
       "    <tr>\n",
       "      <th>15</th>\n",
       "      <td>chr15</td>\n",
       "      <td>102531392</td>\n",
       "    </tr>\n",
       "    <tr>\n",
       "      <th>16</th>\n",
       "      <td>chr16</td>\n",
       "      <td>90354753</td>\n",
       "    </tr>\n",
       "    <tr>\n",
       "      <th>17</th>\n",
       "      <td>chr17</td>\n",
       "      <td>81195210</td>\n",
       "    </tr>\n",
       "    <tr>\n",
       "      <th>18</th>\n",
       "      <td>chr18</td>\n",
       "      <td>78077248</td>\n",
       "    </tr>\n",
       "    <tr>\n",
       "      <th>19</th>\n",
       "      <td>chr20</td>\n",
       "      <td>63025520</td>\n",
       "    </tr>\n",
       "    <tr>\n",
       "      <th>20</th>\n",
       "      <td>chrY</td>\n",
       "      <td>59373566</td>\n",
       "    </tr>\n",
       "    <tr>\n",
       "      <th>21</th>\n",
       "      <td>chr19</td>\n",
       "      <td>59128983</td>\n",
       "    </tr>\n",
       "    <tr>\n",
       "      <th>22</th>\n",
       "      <td>chr22</td>\n",
       "      <td>51304566</td>\n",
       "    </tr>\n",
       "    <tr>\n",
       "      <th>23</th>\n",
       "      <td>chr21</td>\n",
       "      <td>48129895</td>\n",
       "    </tr>\n",
       "    <tr>\n",
       "      <th>24</th>\n",
       "      <td>chr6_ssto_hap7</td>\n",
       "      <td>4928567</td>\n",
       "    </tr>\n",
       "    <tr>\n",
       "      <th>25</th>\n",
       "      <td>chr6_mcf_hap5</td>\n",
       "      <td>4833398</td>\n",
       "    </tr>\n",
       "    <tr>\n",
       "      <th>26</th>\n",
       "      <td>chr6_cox_hap2</td>\n",
       "      <td>4795371</td>\n",
       "    </tr>\n",
       "    <tr>\n",
       "      <th>27</th>\n",
       "      <td>chr6_mann_hap4</td>\n",
       "      <td>4683263</td>\n",
       "    </tr>\n",
       "    <tr>\n",
       "      <th>28</th>\n",
       "      <td>chr6_apd_hap1</td>\n",
       "      <td>4622290</td>\n",
       "    </tr>\n",
       "    <tr>\n",
       "      <th>29</th>\n",
       "      <td>chr6_qbl_hap6</td>\n",
       "      <td>4611984</td>\n",
       "    </tr>\n",
       "    <tr>\n",
       "      <th>30</th>\n",
       "      <td>chr6_dbb_hap3</td>\n",
       "      <td>4610396</td>\n",
       "    </tr>\n",
       "    <tr>\n",
       "      <th>31</th>\n",
       "      <td>chr17_ctg5_hap1</td>\n",
       "      <td>1680828</td>\n",
       "    </tr>\n",
       "    <tr>\n",
       "      <th>32</th>\n",
       "      <td>chr4_ctg9_hap1</td>\n",
       "      <td>590426</td>\n",
       "    </tr>\n",
       "    <tr>\n",
       "      <th>33</th>\n",
       "      <td>chrM</td>\n",
       "      <td>16571</td>\n",
       "    </tr>\n",
       "  </tbody>\n",
       "</table>\n",
       "</div>"
      ],
      "text/plain": [
       "                chr         nb\n",
       "0              chr1  249250621\n",
       "1              chr2  243199373\n",
       "2              chr3  198022430\n",
       "3              chr4  191154276\n",
       "4              chr5  180915260\n",
       "5              chr6  171115067\n",
       "6              chr7  159138663\n",
       "7              chrX  155270560\n",
       "8              chr8  146364022\n",
       "9              chr9  141213431\n",
       "10            chr10  135534747\n",
       "11            chr11  135006516\n",
       "12            chr12  133851895\n",
       "13            chr13  115169878\n",
       "14            chr14  107349540\n",
       "15            chr15  102531392\n",
       "16            chr16   90354753\n",
       "17            chr17   81195210\n",
       "18            chr18   78077248\n",
       "19            chr20   63025520\n",
       "20             chrY   59373566\n",
       "21            chr19   59128983\n",
       "22            chr22   51304566\n",
       "23            chr21   48129895\n",
       "24   chr6_ssto_hap7    4928567\n",
       "25    chr6_mcf_hap5    4833398\n",
       "26    chr6_cox_hap2    4795371\n",
       "27   chr6_mann_hap4    4683263\n",
       "28    chr6_apd_hap1    4622290\n",
       "29    chr6_qbl_hap6    4611984\n",
       "30    chr6_dbb_hap3    4610396\n",
       "31  chr17_ctg5_hap1    1680828\n",
       "32   chr4_ctg9_hap1     590426\n",
       "33             chrM      16571"
      ]
     },
     "execution_count": 12,
     "metadata": {},
     "output_type": "execute_result"
    }
   ],
   "source": [
    "file2 = open('C:/Users/BlueC/Documents/Mines/Santé/Code/hg19.genome.main.chr')\n",
    "reader2 = pd.read_csv(file2, delimiter='\\t')\n",
    "ligne0 = reader2.columns\n",
    "reader2.loc[33] = ligne0\n",
    "reader2.columns = ['chr', 'nb']\n",
    "\n",
    "#Remise dans l'ordre\n",
    "reader2.loc[34] = ligne0\n",
    "reader2 = reader2.shift(periods = 1)\n",
    "reader2.loc[0] = reader2.loc[34]\n",
    "reader2 = reader2.drop([34])\n",
    "reader2"
   ]
  },
  {
   "cell_type": "code",
   "execution_count": 3,
   "metadata": {},
   "outputs": [],
   "source": [
    "def nb_G4chrom(liste,cat,chrom):\n",
    "    liste_bis = liste[liste['chr'] == chrom]\n",
    "    liste_bis = liste_bis[liste_bis['type'] == cat]\n",
    "    return len(liste_bis)\n",
    "\n",
    "def proba_G4chrom(liste,cat,chrom):\n",
    "    can = reader[reader['type'] == cat]\n",
    "    can_length = can['end'] - can['start'] + 1\n",
    "\n",
    "    res = plt.hist(can_length, range = (0,80), bins = 80, density = True)\n",
    "    prob = res[0]\n",
    "    density_prob = [prob[0]]\n",
    "    for i in range(1,len(prob)):\n",
    "        density_prob.append(density_prob[i-1] + prob[i])\n",
    "    return density_prob\n",
    "\n",
    "def dist(list_random):\n",
    "    list_random_plusone = list_random.shift(periods=1)\n",
    "    list_random_minusone = list_random.shift(periods = -1)\n",
    "    dist1 = - list_random_plusone['end'] + list_random['start']\n",
    "    dist2 =  - list_random['end'] + list_random_minusone['start']\n",
    "    dist = pd.DataFrame(columns = ['dist1','dist2'])\n",
    "    dist['dist1'] = dist1\n",
    "    dist['dist2'] = dist2\n",
    "    result = dist.min(axis = 1).astype(int)\n",
    "    return result\n",
    "\n",
    "def v_longueur(proba,np_proba):\n",
    "    l = proba[len(proba)-1]\n",
    "    i = len(proba)-1\n",
    "    for i in range (len(proba)-1):\n",
    "        np_proba[(proba[i] < np_proba) & (np_proba <= proba[i+1])] = i\n",
    "    return np_proba"
   ]
  },
  {
   "cell_type": "code",
   "execution_count": 4,
   "metadata": {},
   "outputs": [],
   "source": [
    "list_random_2 = pd.DataFrame(columns = reader.columns)\n",
    "dico_nb_cat = {'Canonical':0, 'Bulge':0, 'GVBQ':0, 'LongLoop':0}\n",
    "dico_proba_cat = {'Canonical':0, 'Bulge':0, 'GVBQ':0, 'LongLoop':0}\n",
    "\n",
    "nu = 0"
   ]
  },
  {
   "cell_type": "code",
   "execution_count": 13,
   "metadata": {},
   "outputs": [
    {
     "name": "stdout",
     "output_type": "stream",
     "text": [
      "chr1\n"
     ]
    },
    {
     "data": {
      "text/html": [
       "<div>\n",
       "<style scoped>\n",
       "    .dataframe tbody tr th:only-of-type {\n",
       "        vertical-align: middle;\n",
       "    }\n",
       "\n",
       "    .dataframe tbody tr th {\n",
       "        vertical-align: top;\n",
       "    }\n",
       "\n",
       "    .dataframe thead th {\n",
       "        text-align: right;\n",
       "    }\n",
       "</style>\n",
       "<table border=\"1\" class=\"dataframe\">\n",
       "  <thead>\n",
       "    <tr style=\"text-align: right;\">\n",
       "      <th></th>\n",
       "      <th>chr</th>\n",
       "      <th>start</th>\n",
       "      <th>end</th>\n",
       "      <th>type</th>\n",
       "      <th>distClosestG4</th>\n",
       "      <th>CGI</th>\n",
       "      <th>Ori</th>\n",
       "      <th>TSS</th>\n",
       "    </tr>\n",
       "  </thead>\n",
       "  <tbody>\n",
       "    <tr>\n",
       "      <th>0</th>\n",
       "      <td>chr1</td>\n",
       "      <td>8520</td>\n",
       "      <td>8540</td>\n",
       "      <td>GVBQ</td>\n",
       "      <td>2217</td>\n",
       "      <td>NaN</td>\n",
       "      <td>NaN</td>\n",
       "      <td>NaN</td>\n",
       "    </tr>\n",
       "    <tr>\n",
       "      <th>1</th>\n",
       "      <td>chr1</td>\n",
       "      <td>10757</td>\n",
       "      <td>10795</td>\n",
       "      <td>Canonical</td>\n",
       "      <td>770</td>\n",
       "      <td>NaN</td>\n",
       "      <td>NaN</td>\n",
       "      <td>NaN</td>\n",
       "    </tr>\n",
       "    <tr>\n",
       "      <th>2</th>\n",
       "      <td>chr1</td>\n",
       "      <td>11565</td>\n",
       "      <td>11614</td>\n",
       "      <td>Canonical</td>\n",
       "      <td>770</td>\n",
       "      <td>NaN</td>\n",
       "      <td>NaN</td>\n",
       "      <td>NaN</td>\n",
       "    </tr>\n",
       "    <tr>\n",
       "      <th>3</th>\n",
       "      <td>chr1</td>\n",
       "      <td>19419</td>\n",
       "      <td>19461</td>\n",
       "      <td>Canonical</td>\n",
       "      <td>6371</td>\n",
       "      <td>NaN</td>\n",
       "      <td>NaN</td>\n",
       "      <td>NaN</td>\n",
       "    </tr>\n",
       "    <tr>\n",
       "      <th>4</th>\n",
       "      <td>chr1</td>\n",
       "      <td>25832</td>\n",
       "      <td>25851</td>\n",
       "      <td>GVBQ</td>\n",
       "      <td>6371</td>\n",
       "      <td>NaN</td>\n",
       "      <td>NaN</td>\n",
       "      <td>NaN</td>\n",
       "    </tr>\n",
       "    <tr>\n",
       "      <th>...</th>\n",
       "      <td>...</td>\n",
       "      <td>...</td>\n",
       "      <td>...</td>\n",
       "      <td>...</td>\n",
       "      <td>...</td>\n",
       "      <td>...</td>\n",
       "      <td>...</td>\n",
       "      <td>...</td>\n",
       "    </tr>\n",
       "    <tr>\n",
       "      <th>65083</th>\n",
       "      <td>chr1</td>\n",
       "      <td>249235207</td>\n",
       "      <td>249235227</td>\n",
       "      <td>Bulge</td>\n",
       "      <td>267</td>\n",
       "      <td>NaN</td>\n",
       "      <td>NaN</td>\n",
       "      <td>NaN</td>\n",
       "    </tr>\n",
       "    <tr>\n",
       "      <th>65084</th>\n",
       "      <td>chr1</td>\n",
       "      <td>249235754</td>\n",
       "      <td>249235797</td>\n",
       "      <td>Canonical</td>\n",
       "      <td>527</td>\n",
       "      <td>NaN</td>\n",
       "      <td>NaN</td>\n",
       "      <td>NaN</td>\n",
       "    </tr>\n",
       "    <tr>\n",
       "      <th>65085</th>\n",
       "      <td>chr1</td>\n",
       "      <td>249243220</td>\n",
       "      <td>249243241</td>\n",
       "      <td>Bulge</td>\n",
       "      <td>4635</td>\n",
       "      <td>NaN</td>\n",
       "      <td>NaN</td>\n",
       "      <td>NaN</td>\n",
       "    </tr>\n",
       "    <tr>\n",
       "      <th>65086</th>\n",
       "      <td>chr1</td>\n",
       "      <td>249247876</td>\n",
       "      <td>249247900</td>\n",
       "      <td>Canonical</td>\n",
       "      <td>617</td>\n",
       "      <td>NaN</td>\n",
       "      <td>NaN</td>\n",
       "      <td>NaN</td>\n",
       "    </tr>\n",
       "    <tr>\n",
       "      <th>65087</th>\n",
       "      <td>chr1</td>\n",
       "      <td>249248517</td>\n",
       "      <td>249248547</td>\n",
       "      <td>LongLoop</td>\n",
       "      <td>617</td>\n",
       "      <td>NaN</td>\n",
       "      <td>NaN</td>\n",
       "      <td>NaN</td>\n",
       "    </tr>\n",
       "  </tbody>\n",
       "</table>\n",
       "<p>65088 rows × 8 columns</p>\n",
       "</div>"
      ],
      "text/plain": [
       "        chr      start        end       type distClosestG4  CGI  Ori  TSS\n",
       "0      chr1       8520       8540       GVBQ          2217  NaN  NaN  NaN\n",
       "1      chr1      10757      10795  Canonical           770  NaN  NaN  NaN\n",
       "2      chr1      11565      11614  Canonical           770  NaN  NaN  NaN\n",
       "3      chr1      19419      19461  Canonical          6371  NaN  NaN  NaN\n",
       "4      chr1      25832      25851       GVBQ          6371  NaN  NaN  NaN\n",
       "...     ...        ...        ...        ...           ...  ...  ...  ...\n",
       "65083  chr1  249235207  249235227      Bulge           267  NaN  NaN  NaN\n",
       "65084  chr1  249235754  249235797  Canonical           527  NaN  NaN  NaN\n",
       "65085  chr1  249243220  249243241      Bulge          4635  NaN  NaN  NaN\n",
       "65086  chr1  249247876  249247900  Canonical           617  NaN  NaN  NaN\n",
       "65087  chr1  249248517  249248547   LongLoop           617  NaN  NaN  NaN\n",
       "\n",
       "[65088 rows x 8 columns]"
      ]
     },
     "execution_count": 13,
     "metadata": {},
     "output_type": "execute_result"
    },
    {
     "data": {
      "image/png": "[encoded data removed]",
      "text/plain": [
       "<Figure size 432x288 with 1 Axes>"
      ]
     },
     "metadata": {
      "needs_background": "light"
     },
     "output_type": "display_data"
    }
   ],
   "source": [
    "for index, line in reader2[:1].iterrows():\n",
    "    chrom = line['chr']\n",
    "    length_chrom = line['nb']\n",
    "    list_interm = pd.DataFrame(columns = reader.columns)\n",
    "    \n",
    "    for cat,nb in dico_nb_cat.items():\n",
    "        dico_nb_cat[cat] = nb_G4chrom(reader,cat,chrom)\n",
    "        dico_proba_cat[cat] = proba_G4chrom(reader,cat,chrom)\n",
    "    \n",
    "    n_tot = 0\n",
    "\n",
    "    for cat,nb in (dico_nb_cat.items()):\n",
    "        n_tot += nb\n",
    "\n",
    "    cat_column = np.zeros([n_tot,2])\n",
    "    cat_type = []\n",
    "    \n",
    "    ni = 0\n",
    "    for cat,nb in (dico_nb_cat.items()):\n",
    "        proba = dico_proba_cat[cat]\n",
    "\n",
    "        col1 = np.random.randint(0,length_chrom, size = nb)\n",
    "        col2 = np.random.random(size = nb)\n",
    "        col2_bis = v_longueur(proba, col2)\n",
    "        col3 = col1 + col2_bis\n",
    "\n",
    "        cat_column[ni:ni+nb][:,0] = col1\n",
    "        cat_column[ni:ni+nb][:,1] = col3\n",
    "        cat_type += [cat]*nb\n",
    "        ni += nb\n",
    "    \n",
    "    list_interm['start'] = cat_column[:,0].astype(int)\n",
    "    list_interm['end'] = cat_column[:,1].astype(int)\n",
    "    list_interm['chr'] = chrom\n",
    "    list_interm['type'] = cat_type\n",
    "    list_interm = list_interm.sort_values(by = 'start')\n",
    "    list_interm['distClosestG4'] = dist(list_interm)\n",
    "    \n",
    "    list_random_2 = pd.concat([list_random_2,list_interm])\n",
    "    \n",
    "    \n",
    "    nu += n_tot\n",
    "    print(chrom)\n",
    "    \n",
    "list_random_2 = list_random_2.reset_index(drop = True)\n",
    "list_random_2\n",
    "    \n",
    "    "
   ]
  },
  {
   "cell_type": "code",
   "execution_count": 14,
   "metadata": {},
   "outputs": [],
   "source": [
    "list_random_2 = list_random_2[list_random_2['distClosestG4']>0] #on enlève les chevauchements"
   ]
  },
  {
   "cell_type": "code",
   "execution_count": 15,
   "metadata": {},
   "outputs": [
    {
     "data": {
      "text/html": [
       "<div>\n",
       "<style scoped>\n",
       "    .dataframe tbody tr th:only-of-type {\n",
       "        vertical-align: middle;\n",
       "    }\n",
       "\n",
       "    .dataframe tbody tr th {\n",
       "        vertical-align: top;\n",
       "    }\n",
       "\n",
       "    .dataframe thead th {\n",
       "        text-align: right;\n",
       "    }\n",
       "</style>\n",
       "<table border=\"1\" class=\"dataframe\">\n",
       "  <thead>\n",
       "    <tr style=\"text-align: right;\">\n",
       "      <th></th>\n",
       "      <th>chr</th>\n",
       "      <th>start</th>\n",
       "      <th>end</th>\n",
       "      <th>type</th>\n",
       "      <th>distClosestG4</th>\n",
       "      <th>CGI</th>\n",
       "      <th>Ori</th>\n",
       "      <th>TSS</th>\n",
       "    </tr>\n",
       "  </thead>\n",
       "  <tbody>\n",
       "    <tr>\n",
       "      <th>0</th>\n",
       "      <td>chr1</td>\n",
       "      <td>8520</td>\n",
       "      <td>8540</td>\n",
       "      <td>GVBQ</td>\n",
       "      <td>2217</td>\n",
       "      <td>NaN</td>\n",
       "      <td>NaN</td>\n",
       "      <td>NaN</td>\n",
       "    </tr>\n",
       "    <tr>\n",
       "      <th>1</th>\n",
       "      <td>chr1</td>\n",
       "      <td>10757</td>\n",
       "      <td>10795</td>\n",
       "      <td>Canonical</td>\n",
       "      <td>770</td>\n",
       "      <td>NaN</td>\n",
       "      <td>NaN</td>\n",
       "      <td>NaN</td>\n",
       "    </tr>\n",
       "    <tr>\n",
       "      <th>2</th>\n",
       "      <td>chr1</td>\n",
       "      <td>11565</td>\n",
       "      <td>11614</td>\n",
       "      <td>Canonical</td>\n",
       "      <td>770</td>\n",
       "      <td>NaN</td>\n",
       "      <td>NaN</td>\n",
       "      <td>NaN</td>\n",
       "    </tr>\n",
       "    <tr>\n",
       "      <th>3</th>\n",
       "      <td>chr1</td>\n",
       "      <td>19419</td>\n",
       "      <td>19461</td>\n",
       "      <td>Canonical</td>\n",
       "      <td>6371</td>\n",
       "      <td>NaN</td>\n",
       "      <td>NaN</td>\n",
       "      <td>NaN</td>\n",
       "    </tr>\n",
       "    <tr>\n",
       "      <th>4</th>\n",
       "      <td>chr1</td>\n",
       "      <td>25832</td>\n",
       "      <td>25851</td>\n",
       "      <td>GVBQ</td>\n",
       "      <td>6371</td>\n",
       "      <td>NaN</td>\n",
       "      <td>NaN</td>\n",
       "      <td>NaN</td>\n",
       "    </tr>\n",
       "    <tr>\n",
       "      <th>...</th>\n",
       "      <td>...</td>\n",
       "      <td>...</td>\n",
       "      <td>...</td>\n",
       "      <td>...</td>\n",
       "      <td>...</td>\n",
       "      <td>...</td>\n",
       "      <td>...</td>\n",
       "      <td>...</td>\n",
       "    </tr>\n",
       "    <tr>\n",
       "      <th>65083</th>\n",
       "      <td>chr1</td>\n",
       "      <td>249235207</td>\n",
       "      <td>249235227</td>\n",
       "      <td>Bulge</td>\n",
       "      <td>267</td>\n",
       "      <td>NaN</td>\n",
       "      <td>NaN</td>\n",
       "      <td>NaN</td>\n",
       "    </tr>\n",
       "    <tr>\n",
       "      <th>65084</th>\n",
       "      <td>chr1</td>\n",
       "      <td>249235754</td>\n",
       "      <td>249235797</td>\n",
       "      <td>Canonical</td>\n",
       "      <td>527</td>\n",
       "      <td>NaN</td>\n",
       "      <td>NaN</td>\n",
       "      <td>NaN</td>\n",
       "    </tr>\n",
       "    <tr>\n",
       "      <th>65085</th>\n",
       "      <td>chr1</td>\n",
       "      <td>249243220</td>\n",
       "      <td>249243241</td>\n",
       "      <td>Bulge</td>\n",
       "      <td>4635</td>\n",
       "      <td>NaN</td>\n",
       "      <td>NaN</td>\n",
       "      <td>NaN</td>\n",
       "    </tr>\n",
       "    <tr>\n",
       "      <th>65086</th>\n",
       "      <td>chr1</td>\n",
       "      <td>249247876</td>\n",
       "      <td>249247900</td>\n",
       "      <td>Canonical</td>\n",
       "      <td>617</td>\n",
       "      <td>NaN</td>\n",
       "      <td>NaN</td>\n",
       "      <td>NaN</td>\n",
       "    </tr>\n",
       "    <tr>\n",
       "      <th>65087</th>\n",
       "      <td>chr1</td>\n",
       "      <td>249248517</td>\n",
       "      <td>249248547</td>\n",
       "      <td>LongLoop</td>\n",
       "      <td>617</td>\n",
       "      <td>NaN</td>\n",
       "      <td>NaN</td>\n",
       "      <td>NaN</td>\n",
       "    </tr>\n",
       "  </tbody>\n",
       "</table>\n",
       "<p>64202 rows × 8 columns</p>\n",
       "</div>"
      ],
      "text/plain": [
       "        chr      start        end       type distClosestG4  CGI  Ori  TSS\n",
       "0      chr1       8520       8540       GVBQ          2217  NaN  NaN  NaN\n",
       "1      chr1      10757      10795  Canonical           770  NaN  NaN  NaN\n",
       "2      chr1      11565      11614  Canonical           770  NaN  NaN  NaN\n",
       "3      chr1      19419      19461  Canonical          6371  NaN  NaN  NaN\n",
       "4      chr1      25832      25851       GVBQ          6371  NaN  NaN  NaN\n",
       "...     ...        ...        ...        ...           ...  ...  ...  ...\n",
       "65083  chr1  249235207  249235227      Bulge           267  NaN  NaN  NaN\n",
       "65084  chr1  249235754  249235797  Canonical           527  NaN  NaN  NaN\n",
       "65085  chr1  249243220  249243241      Bulge          4635  NaN  NaN  NaN\n",
       "65086  chr1  249247876  249247900  Canonical           617  NaN  NaN  NaN\n",
       "65087  chr1  249248517  249248547   LongLoop           617  NaN  NaN  NaN\n",
       "\n",
       "[64202 rows x 8 columns]"
      ]
     },
     "execution_count": 15,
     "metadata": {},
     "output_type": "execute_result"
    }
   ],
   "source": [
    "list_random_2"
   ]
  },
  {
   "cell_type": "code",
   "execution_count": 17,
   "metadata": {},
   "outputs": [
    {
     "data": {
      "text/plain": [
       "1.3612340216322518"
      ]
     },
     "execution_count": 17,
     "metadata": {},
     "output_type": "execute_result"
    }
   ],
   "source": [
    "(65088-64202)/65088*100"
   ]
  },
  {
   "cell_type": "markdown",
   "metadata": {},
   "source": [
    "##### Vérification de la base de données"
   ]
  },
  {
   "cell_type": "code",
   "execution_count": 17,
   "metadata": {},
   "outputs": [
    {
     "data": {
      "image/png": "[encoded data removed]",
      "text/plain": [
       "<Figure size 1080x360 with 2 Axes>"
      ]
     },
     "metadata": {
      "needs_background": "light"
     },
     "output_type": "display_data"
    },
    {
     "name": "stdout",
     "output_type": "stream",
     "text": [
      "Moy :  27.987769514859284 , Var :  58.217223499357615\n",
      "Moy :  27.983352982519783 , Var :  57.34311702692706\n"
     ]
    }
   ],
   "source": [
    "can = reader[reader['type'] == 'Canonical']\n",
    "can_length = can['end'] - can['start'] + 1\n",
    "\n",
    "can_rd = list_random_2[list_random_2['type'] == 'Canonical']\n",
    "can_rd_length = can_rd['end'] - can_rd['start'] + 1\n",
    "\n",
    "plt.figure(figsize = (15,5))\n",
    "plt.subplot(121)\n",
    "res = plt.hist(can_length, range = (0,80), bins = 80, density = True)\n",
    "plt.xlabel('Longueur')\n",
    "plt.title('Standard')\n",
    "\n",
    "plt.subplot(122)\n",
    "res = plt.hist(can_length, range = (0,80), bins = 80, density = True)\n",
    "plt.xlabel('Longueur')\n",
    "plt.title('Random')\n",
    "\n",
    "\n",
    "plt.show()\n",
    "print(\"Moy : \", can_length.mean(),\", Var : \", can_length.var())\n",
    "print(\"Moy : \", can_rd_length.mean(),\", Var : \", can_rd_length.var())\n"
   ]
  },
  {
   "cell_type": "markdown",
   "metadata": {},
   "source": [
    "##### Sauvegarde de la base de données"
   ]
  },
  {
   "cell_type": "code",
   "execution_count": 27,
   "metadata": {},
   "outputs": [],
   "source": [
    "list_random_2.to_csv('random_G4.csv')"
   ]
  },
  {
   "cell_type": "markdown",
   "metadata": {},
   "source": [
    "#### Comparaison de la base aléatoire et de la base de référence"
   ]
  },
  {
   "cell_type": "code",
   "execution_count": 34,
   "metadata": {},
   "outputs": [
    {
     "data": {
      "text/html": [
       "<div>\n",
       "<style scoped>\n",
       "    .dataframe tbody tr th:only-of-type {\n",
       "        vertical-align: middle;\n",
       "    }\n",
       "\n",
       "    .dataframe tbody tr th {\n",
       "        vertical-align: top;\n",
       "    }\n",
       "\n",
       "    .dataframe thead th {\n",
       "        text-align: right;\n",
       "    }\n",
       "</style>\n",
       "<table border=\"1\" class=\"dataframe\">\n",
       "  <thead>\n",
       "    <tr style=\"text-align: right;\">\n",
       "      <th></th>\n",
       "      <th>chr</th>\n",
       "      <th>nb</th>\n",
       "    </tr>\n",
       "  </thead>\n",
       "  <tbody>\n",
       "    <tr>\n",
       "      <th>0</th>\n",
       "      <td>chr1</td>\n",
       "      <td>249250621</td>\n",
       "    </tr>\n",
       "    <tr>\n",
       "      <th>1</th>\n",
       "      <td>chr2</td>\n",
       "      <td>243199373</td>\n",
       "    </tr>\n",
       "    <tr>\n",
       "      <th>2</th>\n",
       "      <td>chr3</td>\n",
       "      <td>198022430</td>\n",
       "    </tr>\n",
       "    <tr>\n",
       "      <th>3</th>\n",
       "      <td>chr4</td>\n",
       "      <td>191154276</td>\n",
       "    </tr>\n",
       "    <tr>\n",
       "      <th>4</th>\n",
       "      <td>chr5</td>\n",
       "      <td>180915260</td>\n",
       "    </tr>\n",
       "    <tr>\n",
       "      <th>5</th>\n",
       "      <td>chr6</td>\n",
       "      <td>171115067</td>\n",
       "    </tr>\n",
       "    <tr>\n",
       "      <th>6</th>\n",
       "      <td>chr7</td>\n",
       "      <td>159138663</td>\n",
       "    </tr>\n",
       "    <tr>\n",
       "      <th>7</th>\n",
       "      <td>chrX</td>\n",
       "      <td>155270560</td>\n",
       "    </tr>\n",
       "    <tr>\n",
       "      <th>8</th>\n",
       "      <td>chr8</td>\n",
       "      <td>146364022</td>\n",
       "    </tr>\n",
       "    <tr>\n",
       "      <th>9</th>\n",
       "      <td>chr9</td>\n",
       "      <td>141213431</td>\n",
       "    </tr>\n",
       "    <tr>\n",
       "      <th>10</th>\n",
       "      <td>chr10</td>\n",
       "      <td>135534747</td>\n",
       "    </tr>\n",
       "    <tr>\n",
       "      <th>11</th>\n",
       "      <td>chr11</td>\n",
       "      <td>135006516</td>\n",
       "    </tr>\n",
       "    <tr>\n",
       "      <th>12</th>\n",
       "      <td>chr12</td>\n",
       "      <td>133851895</td>\n",
       "    </tr>\n",
       "    <tr>\n",
       "      <th>13</th>\n",
       "      <td>chr13</td>\n",
       "      <td>115169878</td>\n",
       "    </tr>\n",
       "    <tr>\n",
       "      <th>14</th>\n",
       "      <td>chr14</td>\n",
       "      <td>107349540</td>\n",
       "    </tr>\n",
       "    <tr>\n",
       "      <th>15</th>\n",
       "      <td>chr15</td>\n",
       "      <td>102531392</td>\n",
       "    </tr>\n",
       "    <tr>\n",
       "      <th>16</th>\n",
       "      <td>chr16</td>\n",
       "      <td>90354753</td>\n",
       "    </tr>\n",
       "    <tr>\n",
       "      <th>17</th>\n",
       "      <td>chr17</td>\n",
       "      <td>81195210</td>\n",
       "    </tr>\n",
       "    <tr>\n",
       "      <th>18</th>\n",
       "      <td>chr18</td>\n",
       "      <td>78077248</td>\n",
       "    </tr>\n",
       "    <tr>\n",
       "      <th>19</th>\n",
       "      <td>chr20</td>\n",
       "      <td>63025520</td>\n",
       "    </tr>\n",
       "    <tr>\n",
       "      <th>20</th>\n",
       "      <td>chrY</td>\n",
       "      <td>59373566</td>\n",
       "    </tr>\n",
       "    <tr>\n",
       "      <th>21</th>\n",
       "      <td>chr19</td>\n",
       "      <td>59128983</td>\n",
       "    </tr>\n",
       "    <tr>\n",
       "      <th>22</th>\n",
       "      <td>chr22</td>\n",
       "      <td>51304566</td>\n",
       "    </tr>\n",
       "    <tr>\n",
       "      <th>23</th>\n",
       "      <td>chr21</td>\n",
       "      <td>48129895</td>\n",
       "    </tr>\n",
       "    <tr>\n",
       "      <th>24</th>\n",
       "      <td>chr6_ssto_hap7</td>\n",
       "      <td>4928567</td>\n",
       "    </tr>\n",
       "    <tr>\n",
       "      <th>25</th>\n",
       "      <td>chr6_mcf_hap5</td>\n",
       "      <td>4833398</td>\n",
       "    </tr>\n",
       "    <tr>\n",
       "      <th>26</th>\n",
       "      <td>chr6_cox_hap2</td>\n",
       "      <td>4795371</td>\n",
       "    </tr>\n",
       "    <tr>\n",
       "      <th>27</th>\n",
       "      <td>chr6_mann_hap4</td>\n",
       "      <td>4683263</td>\n",
       "    </tr>\n",
       "    <tr>\n",
       "      <th>28</th>\n",
       "      <td>chr6_apd_hap1</td>\n",
       "      <td>4622290</td>\n",
       "    </tr>\n",
       "    <tr>\n",
       "      <th>29</th>\n",
       "      <td>chr6_qbl_hap6</td>\n",
       "      <td>4611984</td>\n",
       "    </tr>\n",
       "    <tr>\n",
       "      <th>30</th>\n",
       "      <td>chr6_dbb_hap3</td>\n",
       "      <td>4610396</td>\n",
       "    </tr>\n",
       "    <tr>\n",
       "      <th>31</th>\n",
       "      <td>chr17_ctg5_hap1</td>\n",
       "      <td>1680828</td>\n",
       "    </tr>\n",
       "    <tr>\n",
       "      <th>32</th>\n",
       "      <td>chr4_ctg9_hap1</td>\n",
       "      <td>590426</td>\n",
       "    </tr>\n",
       "    <tr>\n",
       "      <th>33</th>\n",
       "      <td>chrM</td>\n",
       "      <td>16571</td>\n",
       "    </tr>\n",
       "  </tbody>\n",
       "</table>\n",
       "</div>"
      ],
      "text/plain": [
       "                chr         nb\n",
       "0              chr1  249250621\n",
       "1              chr2  243199373\n",
       "2              chr3  198022430\n",
       "3              chr4  191154276\n",
       "4              chr5  180915260\n",
       "5              chr6  171115067\n",
       "6              chr7  159138663\n",
       "7              chrX  155270560\n",
       "8              chr8  146364022\n",
       "9              chr9  141213431\n",
       "10            chr10  135534747\n",
       "11            chr11  135006516\n",
       "12            chr12  133851895\n",
       "13            chr13  115169878\n",
       "14            chr14  107349540\n",
       "15            chr15  102531392\n",
       "16            chr16   90354753\n",
       "17            chr17   81195210\n",
       "18            chr18   78077248\n",
       "19            chr20   63025520\n",
       "20             chrY   59373566\n",
       "21            chr19   59128983\n",
       "22            chr22   51304566\n",
       "23            chr21   48129895\n",
       "24   chr6_ssto_hap7    4928567\n",
       "25    chr6_mcf_hap5    4833398\n",
       "26    chr6_cox_hap2    4795371\n",
       "27   chr6_mann_hap4    4683263\n",
       "28    chr6_apd_hap1    4622290\n",
       "29    chr6_qbl_hap6    4611984\n",
       "30    chr6_dbb_hap3    4610396\n",
       "31  chr17_ctg5_hap1    1680828\n",
       "32   chr4_ctg9_hap1     590426\n",
       "33             chrM      16571"
      ]
     },
     "execution_count": 34,
     "metadata": {},
     "output_type": "execute_result"
    }
   ],
   "source": [
    "file2 = open('C:/Users/BlueC/Documents/Mines/Santé/Code/hg19.genome.main.chr')\n",
    "reader2 = pd.read_csv(file2, delimiter='\\t')\n",
    "ligne0 = reader2.columns\n",
    "reader2.loc[33] = ligne0\n",
    "reader2.columns = ['chr', 'nb']\n",
    "\n",
    "#Remise dans l'ordre\n",
    "reader2.loc[34] = ligne0\n",
    "reader2 = reader2.shift(periods = 1)\n",
    "reader2.loc[0] = reader2.loc[34]\n",
    "reader2 = reader2.drop([34])\n",
    "reader2"
   ]
  },
  {
   "cell_type": "code",
   "execution_count": 28,
   "metadata": {},
   "outputs": [
    {
     "data": {
      "text/html": [
       "<div>\n",
       "<style scoped>\n",
       "    .dataframe tbody tr th:only-of-type {\n",
       "        vertical-align: middle;\n",
       "    }\n",
       "\n",
       "    .dataframe tbody tr th {\n",
       "        vertical-align: top;\n",
       "    }\n",
       "\n",
       "    .dataframe thead th {\n",
       "        text-align: right;\n",
       "    }\n",
       "</style>\n",
       "<table border=\"1\" class=\"dataframe\">\n",
       "  <thead>\n",
       "    <tr style=\"text-align: right;\">\n",
       "      <th></th>\n",
       "      <th>chr</th>\n",
       "      <th>start</th>\n",
       "      <th>end</th>\n",
       "      <th>type</th>\n",
       "      <th>distClosestG4</th>\n",
       "      <th>CGI</th>\n",
       "      <th>Ori</th>\n",
       "      <th>TSS</th>\n",
       "    </tr>\n",
       "  </thead>\n",
       "  <tbody>\n",
       "    <tr>\n",
       "      <th>0</th>\n",
       "      <td>chr1</td>\n",
       "      <td>2402</td>\n",
       "      <td>2426</td>\n",
       "      <td>Bulge</td>\n",
       "      <td>473</td>\n",
       "      <td>NaN</td>\n",
       "      <td>NaN</td>\n",
       "      <td>NaN</td>\n",
       "    </tr>\n",
       "    <tr>\n",
       "      <th>1</th>\n",
       "      <td>chr1</td>\n",
       "      <td>2899</td>\n",
       "      <td>2933</td>\n",
       "      <td>LongLoop</td>\n",
       "      <td>473</td>\n",
       "      <td>NaN</td>\n",
       "      <td>NaN</td>\n",
       "      <td>NaN</td>\n",
       "    </tr>\n",
       "    <tr>\n",
       "      <th>2</th>\n",
       "      <td>chr1</td>\n",
       "      <td>10525</td>\n",
       "      <td>10551</td>\n",
       "      <td>Bulge</td>\n",
       "      <td>918</td>\n",
       "      <td>NaN</td>\n",
       "      <td>NaN</td>\n",
       "      <td>NaN</td>\n",
       "    </tr>\n",
       "    <tr>\n",
       "      <th>3</th>\n",
       "      <td>chr1</td>\n",
       "      <td>11469</td>\n",
       "      <td>11503</td>\n",
       "      <td>Canonical</td>\n",
       "      <td>918</td>\n",
       "      <td>NaN</td>\n",
       "      <td>NaN</td>\n",
       "      <td>NaN</td>\n",
       "    </tr>\n",
       "    <tr>\n",
       "      <th>4</th>\n",
       "      <td>chr1</td>\n",
       "      <td>16111</td>\n",
       "      <td>16130</td>\n",
       "      <td>Bulge</td>\n",
       "      <td>2181</td>\n",
       "      <td>NaN</td>\n",
       "      <td>NaN</td>\n",
       "      <td>NaN</td>\n",
       "    </tr>\n",
       "    <tr>\n",
       "      <th>...</th>\n",
       "      <td>...</td>\n",
       "      <td>...</td>\n",
       "      <td>...</td>\n",
       "      <td>...</td>\n",
       "      <td>...</td>\n",
       "      <td>...</td>\n",
       "      <td>...</td>\n",
       "      <td>...</td>\n",
       "    </tr>\n",
       "    <tr>\n",
       "      <th>720229</th>\n",
       "      <td>chr21</td>\n",
       "      <td>48113314</td>\n",
       "      <td>48113335</td>\n",
       "      <td>GVBQ</td>\n",
       "      <td>4140</td>\n",
       "      <td>NaN</td>\n",
       "      <td>NaN</td>\n",
       "      <td>NaN</td>\n",
       "    </tr>\n",
       "    <tr>\n",
       "      <th>720230</th>\n",
       "      <td>chr21</td>\n",
       "      <td>48117475</td>\n",
       "      <td>48117497</td>\n",
       "      <td>Canonical</td>\n",
       "      <td>2462</td>\n",
       "      <td>NaN</td>\n",
       "      <td>NaN</td>\n",
       "      <td>NaN</td>\n",
       "    </tr>\n",
       "    <tr>\n",
       "      <th>720231</th>\n",
       "      <td>chr21</td>\n",
       "      <td>48119959</td>\n",
       "      <td>48119981</td>\n",
       "      <td>GVBQ</td>\n",
       "      <td>2462</td>\n",
       "      <td>NaN</td>\n",
       "      <td>NaN</td>\n",
       "      <td>NaN</td>\n",
       "    </tr>\n",
       "    <tr>\n",
       "      <th>720232</th>\n",
       "      <td>chr21</td>\n",
       "      <td>48123506</td>\n",
       "      <td>48123534</td>\n",
       "      <td>Bulge</td>\n",
       "      <td>2176</td>\n",
       "      <td>NaN</td>\n",
       "      <td>NaN</td>\n",
       "      <td>NaN</td>\n",
       "    </tr>\n",
       "    <tr>\n",
       "      <th>720233</th>\n",
       "      <td>chr21</td>\n",
       "      <td>48125710</td>\n",
       "      <td>48125740</td>\n",
       "      <td>GVBQ</td>\n",
       "      <td>2176</td>\n",
       "      <td>NaN</td>\n",
       "      <td>NaN</td>\n",
       "      <td>NaN</td>\n",
       "    </tr>\n",
       "  </tbody>\n",
       "</table>\n",
       "<p>720234 rows × 8 columns</p>\n",
       "</div>"
      ],
      "text/plain": [
       "          chr     start       end       type  distClosestG4  CGI  Ori  TSS\n",
       "0        chr1      2402      2426      Bulge            473  NaN  NaN  NaN\n",
       "1        chr1      2899      2933   LongLoop            473  NaN  NaN  NaN\n",
       "2        chr1     10525     10551      Bulge            918  NaN  NaN  NaN\n",
       "3        chr1     11469     11503  Canonical            918  NaN  NaN  NaN\n",
       "4        chr1     16111     16130      Bulge           2181  NaN  NaN  NaN\n",
       "...       ...       ...       ...        ...            ...  ...  ...  ...\n",
       "720229  chr21  48113314  48113335       GVBQ           4140  NaN  NaN  NaN\n",
       "720230  chr21  48117475  48117497  Canonical           2462  NaN  NaN  NaN\n",
       "720231  chr21  48119959  48119981       GVBQ           2462  NaN  NaN  NaN\n",
       "720232  chr21  48123506  48123534      Bulge           2176  NaN  NaN  NaN\n",
       "720233  chr21  48125710  48125740       GVBQ           2176  NaN  NaN  NaN\n",
       "\n",
       "[720234 rows x 8 columns]"
      ]
     },
     "execution_count": 28,
     "metadata": {},
     "output_type": "execute_result"
    }
   ],
   "source": [
    "file2 = open('C:/Users/BlueC/Documents/Mines/Santé/Code/random_G4.csv')\n",
    "list_random_2 = pd.read_csv(file2)\n",
    "list_random_2.drop('Unnamed: 0', axis=1, inplace=True)\n",
    "list_random_2"
   ]
  },
  {
   "cell_type": "code",
   "execution_count": 29,
   "metadata": {},
   "outputs": [
    {
     "data": {
      "image/png": "[encoded data removed]",
      "text/plain": [
       "<Figure size 432x288 with 1 Axes>"
      ]
     },
     "metadata": {
      "needs_background": "light"
     },
     "output_type": "display_data"
    },
    {
     "data": {
      "image/png": "[encoded data removed]",
      "text/plain": [
       "<Figure size 432x288 with 1 Axes>"
      ]
     },
     "metadata": {
      "needs_background": "light"
     },
     "output_type": "display_data"
    }
   ],
   "source": [
    "distance_reg = reader['distClosestG4']\n",
    "distance_rd = list_random_2['distClosestG4']\n",
    "\n",
    "plt.hist(distance_reg, range = (0,5000), bins = 100, density = True)\n",
    "plt.xlabel('Distance')\n",
    "plt.ylabel('Occurences')\n",
    "plt.ylim(0,0.0040)\n",
    "plt.title('Base de référence')\n",
    "plt.show()\n",
    "\n",
    "plt.hist(distance_rd, range = (0,10000), bins = 100, density = True)\n",
    "plt.xlabel('Distance')\n",
    "plt.ylabel('Occurences')\n",
    "plt.ylim(0,0.0040)\n",
    "plt.title('Base random')\n",
    "plt.show()"
   ]
  },
  {
   "cell_type": "code",
   "execution_count": 30,
   "metadata": {},
   "outputs": [
    {
     "data": {
      "image/png": "[encoded data removed]",
      "text/plain": [
       "<Figure size 432x288 with 1 Axes>"
      ]
     },
     "metadata": {
      "needs_background": "light"
     },
     "output_type": "display_data"
    }
   ],
   "source": [
    "distance_reg = reader['distClosestG4']\n",
    "distance_rd = list_random_2['distClosestG4']\n",
    "\n",
    "hist_rd = plt.hist(distance_rd, range = (0,5000), bins = 100, density = True)\n",
    "hist_reg = plt.hist(distance_reg, range = (0,5000), bins = 100, density = True)\n",
    "\n",
    "plt.xlabel('Distance')\n",
    "plt.ylabel('Occurences')\n",
    "plt.show()"
   ]
  },
  {
   "cell_type": "code",
   "execution_count": 31,
   "metadata": {},
   "outputs": [
    {
     "data": {
      "image/png": "[encoded data removed]",
      "text/plain": [
       "<Figure size 432x288 with 1 Axes>"
      ]
     },
     "metadata": {
      "needs_background": "light"
     },
     "output_type": "display_data"
    }
   ],
   "source": [
    "n = hist_rd[0]*50\n",
    "bins = hist_rd[1]\n",
    "plt.plot(bins[:-1], n, '-')\n",
    "\n",
    "n = hist_reg[0]*50\n",
    "bins = hist_reg[1]\n",
    "plt.plot(bins[:-1], n, '-')\n",
    "\n",
    "plt.xlabel('Distance')\n",
    "plt.ylabel('Rate')\n",
    "plt.title('Repartition of the distance to the closest G4')\n",
    "plt.legend([\"Randomized genome\",\"Referenced genome\"])\n",
    "plt.savefig('C:/Users/BlueC/Documents/Mines/Santé/Données et commentaires/fig7.jpg')\n",
    "plt.show()"
   ]
  },
  {
   "cell_type": "code",
   "execution_count": 32,
   "metadata": {},
   "outputs": [
    {
     "data": {
      "image/png": "[encoded data removed]",
      "text/plain": [
       "<Figure size 432x288 with 1 Axes>"
      ]
     },
     "metadata": {
      "needs_background": "light"
     },
     "output_type": "display_data"
    }
   ],
   "source": [
    "#G4 en cluster\n",
    "\n",
    "cluster_reg = reader[reader['distClosestG4'] < 101]\n",
    "cluster_rd = list_random_2[list_random_2['distClosestG4'] < 101]\n",
    "largeur = .35\n",
    "labels = ['Referenced genome', 'Randomized genome']\n",
    "\n",
    "fig, ax = plt.subplots()\n",
    "\n",
    "plt.bar([1,2],[len(cluster_reg)/len(reader), len(cluster_rd)/len(list_random_2)],largeur)\n",
    "\n",
    "ax.set_xticks([1,2])\n",
    "ax.set_xticklabels(labels)\n",
    "\n",
    "plt.title('Rate of clustered G4')\n",
    "plt.savefig('C:/Users/BlueC/Documents/Mines/Santé/Données et commentaires/fig8.jpg')\n",
    "\n",
    "\n",
    "plt.show()"
   ]
  },
  {
   "cell_type": "code",
   "execution_count": 35,
   "metadata": {},
   "outputs": [
    {
     "data": {
      "image/png": "[encoded data removed]",
      "text/plain": [
       "<Figure size 1080x576 with 1 Axes>"
      ]
     },
     "metadata": {
      "needs_background": "light"
     },
     "output_type": "display_data"
    }
   ],
   "source": [
    "# Par chromosome\n",
    "\n",
    "list_reg = []\n",
    "list_rd = []\n",
    "list_chrom = []\n",
    "for index, line in reader2[:23].iterrows():\n",
    "    chrom = line['chr']\n",
    "    list_chrom.append(chrom)\n",
    "    length_chrom = line['nb']\n",
    "    \n",
    "    reg = reader[reader['chr'] == chrom]\n",
    "    reg2 = reg[reg['distClosestG4'] < 100]\n",
    "    rd = list_random_2[list_random_2['chr'] == chrom]\n",
    "    rd2 = rd[rd['distClosestG4'] < 100]\n",
    "    \n",
    "    list_reg.append(len(reg2)/len(reg))\n",
    "    list_rd.append(len(rd2)/len(rd))\n",
    "    \n",
    "    \n",
    "x = np.arange(len(list_reg))\n",
    "largeur = .35\n",
    "\n",
    "fig, ax = plt.subplots(figsize = (15,8))\n",
    "r1 = ax.bar(x - largeur/2, list_reg, largeur)\n",
    "r2 = ax.bar(x + largeur/2, list_rd, largeur)\n",
    "\n",
    "ax.set_xticks(x)\n",
    "ax.set_xticklabels(list_chrom)\n",
    "\n",
    "plt.legend(['Referenced genome', 'Randomized genome'])\n",
    "plt.title(\"Rate of clustered G4 per chromosome\")\n",
    "\n",
    "plt.savefig('C:/Users/BlueC/Documents/Mines/Santé/Données et commentaires/fig9.jpg')\n",
    "plt.show()\n",
    "\n",
    "    "
   ]
  },
  {
   "cell_type": "code",
   "execution_count": 36,
   "metadata": {},
   "outputs": [
    {
     "data": {
      "image/png": "[encoded data removed]",
      "text/plain": [
       "<Figure size 1080x576 with 1 Axes>"
      ]
     },
     "metadata": {
      "needs_background": "light"
     },
     "output_type": "display_data"
    }
   ],
   "source": [
    "# Par chromosome\n",
    "\n",
    "list_reg = []\n",
    "list_rd = []\n",
    "list_chrom = []\n",
    "for index, line in reader2[:23].iterrows():\n",
    "    chrom = line['chr']\n",
    "    list_chrom.append(chrom)\n",
    "    length_chrom = line['nb']\n",
    "    \n",
    "    reg = reader[reader['chr'] == chrom]\n",
    "    reg2 = reg[reg['distClosestG4'] < 100]\n",
    "    rd = list_random_2[list_random_2['chr'] == chrom]\n",
    "    rd2 = rd[rd['distClosestG4'] < 100]\n",
    "    \n",
    "    list_reg.append(len(reg2))\n",
    "    list_rd.append(len(rd2))\n",
    "    \n",
    "    \n",
    "x = np.arange(len(list_reg))\n",
    "largeur = .35\n",
    "\n",
    "fig, ax = plt.subplots(figsize = (15,8))\n",
    "r1 = ax.bar(x - largeur/2, list_reg, largeur)\n",
    "r2 = ax.bar(x + largeur/2, list_rd, largeur)\n",
    "\n",
    "ax.set_xticks(x)\n",
    "ax.set_xticklabels(list_chrom)\n",
    "\n",
    "plt.legend(['Referenced genome', 'Randomized genome'])\n",
    "plt.title(\"Number of clustered G4 per chromosome\")\n",
    "\n",
    "plt.savefig('C:/Users/BlueC/Documents/Mines/Santé/Données et commentaires/fig11.jpg')\n",
    "plt.show()"
   ]
  },
  {
   "cell_type": "code",
   "execution_count": 37,
   "metadata": {},
   "outputs": [
    {
     "ename": "NameError",
     "evalue": "name 'dico_nb_cat' is not defined",
     "output_type": "error",
     "traceback": [
      "\u001b[1;31m---------------------------------------------------------------------------\u001b[0m",
      "\u001b[1;31mNameError\u001b[0m                                 Traceback (most recent call last)",
      "\u001b[1;32m<ipython-input-37-d242d4386604>\u001b[0m in \u001b[0;36m<module>\u001b[1;34m\u001b[0m\n\u001b[0;32m      5\u001b[0m \u001b[0mlist_cat\u001b[0m \u001b[1;33m=\u001b[0m \u001b[1;33m[\u001b[0m\u001b[1;33m]\u001b[0m\u001b[1;33m\u001b[0m\u001b[1;33m\u001b[0m\u001b[0m\n\u001b[0;32m      6\u001b[0m \u001b[1;33m\u001b[0m\u001b[0m\n\u001b[1;32m----> 7\u001b[1;33m \u001b[1;32mfor\u001b[0m \u001b[0mcat\u001b[0m\u001b[1;33m,\u001b[0m\u001b[0mnb\u001b[0m \u001b[1;32min\u001b[0m \u001b[0mdico_nb_cat\u001b[0m\u001b[1;33m.\u001b[0m\u001b[0mitems\u001b[0m\u001b[1;33m(\u001b[0m\u001b[1;33m)\u001b[0m\u001b[1;33m:\u001b[0m\u001b[1;33m\u001b[0m\u001b[1;33m\u001b[0m\u001b[0m\n\u001b[0m\u001b[0;32m      8\u001b[0m     \u001b[0mlist_cat\u001b[0m\u001b[1;33m.\u001b[0m\u001b[0mappend\u001b[0m\u001b[1;33m(\u001b[0m\u001b[0mcat\u001b[0m\u001b[1;33m)\u001b[0m\u001b[1;33m\u001b[0m\u001b[1;33m\u001b[0m\u001b[0m\n\u001b[0;32m      9\u001b[0m \u001b[1;33m\u001b[0m\u001b[0m\n",
      "\u001b[1;31mNameError\u001b[0m: name 'dico_nb_cat' is not defined"
     ]
    }
   ],
   "source": [
    "#Selon le type de G4\n",
    "\n",
    "list_reg = []\n",
    "list_rd = []\n",
    "list_cat = []\n",
    "\n",
    "for cat,nb in dico_nb_cat.items():\n",
    "    list_cat.append(cat)\n",
    "\n",
    "    reg = reader[reader['type'] == cat]\n",
    "    reg2 = reg[reg['distClosestG4'] < 100]\n",
    "    rd = list_random_2[list_random_2['type'] == cat]\n",
    "    rd2 = rd[rd['distClosestG4'] < 100]\n",
    "    \n",
    "    list_reg.append(len(reg2)/len(reg))\n",
    "    list_rd.append(len(rd2)/len(rd))\n",
    "    \n",
    "    \n",
    "x = np.arange(len(list_reg))\n",
    "largeur = .35\n",
    "\n",
    "fig, ax = plt.subplots(figsize = (10,5))\n",
    "r1 = ax.bar(x - largeur/2, list_reg, largeur)\n",
    "r2 = ax.bar(x + largeur/2, list_rd, largeur)\n",
    "\n",
    "ax.set_xticks(x)\n",
    "ax.set_xticklabels(list_cat)\n",
    "\n",
    "plt.legend(['Referenced genome', 'Randomized genome'])\n",
    "plt.title(\"Rate of clustered G4 per type\")\n",
    "\n",
    "plt.savefig('C:/Users/BlueC/Documents/Mines/Santé/Données et commentaires/fig10.jpg')\n",
    "plt.show()"
   ]
  },
  {
   "cell_type": "code",
   "execution_count": 50,
   "metadata": {},
   "outputs": [
    {
     "data": {
      "text/html": [
       "<div>\n",
       "<style scoped>\n",
       "    .dataframe tbody tr th:only-of-type {\n",
       "        vertical-align: middle;\n",
       "    }\n",
       "\n",
       "    .dataframe tbody tr th {\n",
       "        vertical-align: top;\n",
       "    }\n",
       "\n",
       "    .dataframe thead th {\n",
       "        text-align: right;\n",
       "    }\n",
       "</style>\n",
       "<table border=\"1\" class=\"dataframe\">\n",
       "  <thead>\n",
       "    <tr style=\"text-align: right;\">\n",
       "      <th></th>\n",
       "      <th>chr</th>\n",
       "      <th>start</th>\n",
       "      <th>end</th>\n",
       "      <th>type</th>\n",
       "      <th>distClosestG4</th>\n",
       "      <th>CGI</th>\n",
       "      <th>Ori</th>\n",
       "      <th>TSS</th>\n",
       "    </tr>\n",
       "  </thead>\n",
       "  <tbody>\n",
       "  </tbody>\n",
       "</table>\n",
       "</div>"
      ],
      "text/plain": [
       "Empty DataFrame\n",
       "Columns: [chr, start, end, type, distClosestG4, CGI, Ori, TSS]\n",
       "Index: []"
      ]
     },
     "execution_count": 50,
     "metadata": {},
     "output_type": "execute_result"
    }
   ],
   "source": [
    "list_random_2"
   ]
  },
  {
   "cell_type": "markdown",
   "metadata": {},
   "source": [
    "# Même chose avec brin -"
   ]
  },
  {
   "cell_type": "code",
   "execution_count": 1,
   "metadata": {},
   "outputs": [],
   "source": [
    "import pandas as pd\n",
    "from matplotlib import pyplot as plt\n",
    "import numpy as np\n",
    "import statistics\n",
    "\n",
    "file = open('C:/Users/BlueC/Documents/Mines/Santé/Code/annotated_G4minus_categories.bed')\n",
    "reader = pd.read_csv(file, delimiter='\\t')"
   ]
  },
  {
   "cell_type": "code",
   "execution_count": 2,
   "metadata": {},
   "outputs": [
    {
     "data": {
      "image/png": "[encoded data removed]",
      "text/plain": [
       "<Figure size 432x288 with 1 Axes>"
      ]
     },
     "metadata": {
      "needs_background": "light"
     },
     "output_type": "display_data"
    },
    {
     "name": "stdout",
     "output_type": "stream",
     "text": [
      "0.25     28.0\n",
      "0.50     87.5\n",
      "0.75    298.5\n",
      "Name: distClosestG4, dtype: float64\n",
      "nb de G4 en cluster :  203607\n",
      "Taux de G4 en cluster :  26.309179081045247 %\n"
     ]
    }
   ],
   "source": [
    "### Boîte à moustache des distances, quantiles\n",
    "\n",
    "dist = reader['distClosestG4']\n",
    "\n",
    "plt.boxplot(dist)\n",
    "plt.ylim(0,5000)\n",
    "plt.ylabel(\"Distance in pb\")\n",
    "plt.title(\"Distribution of the distance to the closest G4\")\n",
    "plt.savefig('C:/Users/BlueC/Documents/Mines/Santé/Données et commentaires/fig1.jpg')\n",
    "plt.show()\n",
    "\n",
    "print(dist[:20].quantile([0.25,0.5,0.75]))\n",
    "\n",
    "nb_cluster = len(reader[dist <= 100])\n",
    "print(\"nb de G4 en cluster : \",  nb_cluster)\n",
    "print(\"Taux de G4 en cluster : \", nb_cluster/len(dist)*100, \"%\")\n"
   ]
  },
  {
   "cell_type": "markdown",
   "metadata": {},
   "source": [
    "##### Distance au plus proche voisin\n"
   ]
  },
  {
   "cell_type": "code",
   "execution_count": 3,
   "metadata": {},
   "outputs": [
    {
     "name": "stdout",
     "output_type": "stream",
     "text": [
      "177931 300879 2258 229732 63101\n"
     ]
    },
    {
     "data": {
      "image/png": "[encoded data removed]",
      "text/plain": [
       "<Figure size 432x288 with 1 Axes>"
      ]
     },
     "metadata": {
      "needs_background": "light"
     },
     "output_type": "display_data"
    }
   ],
   "source": [
    "### Nb de G4 de chaque catégorie\n",
    "\n",
    "cat = reader['type']\n",
    "\n",
    "nb_can = len(reader[cat == 'Canonical'])\n",
    "nb_bulg = len(reader[cat == 'Bulge'])\n",
    "nb_gtrack = len(reader[cat == 'G-track'])\n",
    "nb_gvbq = len(reader[cat == 'GVBQ'])\n",
    "nb_longloop = len(reader[cat == 'LongLoop'])\n",
    "\n",
    "print(nb_can, nb_bulg, nb_gtrack, nb_gvbq, nb_longloop)\n",
    "\n",
    "### Distance aux G4 les plus proches pour chaque catégorie\n",
    "\n",
    "can_dist = reader[cat == 'Canonical']['distClosestG4']\n",
    "bulg_dist = reader[cat == 'Bulge']['distClosestG4']\n",
    "gtrack_dist = reader[cat == 'G-track']['distClosestG4']\n",
    "GVBQ_dist = reader[cat == 'GVBQ']['distClosestG4']\n",
    "longloop_dist = reader[cat == 'LongLoop']['distClosestG4']\n",
    "\n",
    "plt.boxplot([can_dist, bulg_dist, gtrack_dist, GVBQ_dist, longloop_dist])\n",
    "\n",
    "plt.gca().xaxis.set_ticklabels(['Canonical', 'Bulge', 'G-track', 'GVBQ', 'LongLoop'])\n",
    "\n",
    "plt.ylim(0,5000)\n",
    "plt.ylabel(\"Distance in pb\")\n",
    "plt.title('Distance to closest G4')\n",
    "plt.savefig('C:/Users/BlueC/Documents/Mines/Santé/Données et commentaires/fig2.jpg')\n",
    "\n",
    "plt.show()\n"
   ]
  },
  {
   "cell_type": "code",
   "execution_count": 4,
   "metadata": {},
   "outputs": [
    {
     "data": {
      "image/png": "[encoded data removed]",
      "text/plain": [
       "<Figure size 432x288 with 1 Axes>"
      ]
     },
     "metadata": {
      "needs_background": "light"
     },
     "output_type": "display_data"
    },
    {
     "data": {
      "image/png": "[encoded data removed]",
      "text/plain": [
       "<Figure size 432x288 with 1 Axes>"
      ]
     },
     "metadata": {
      "needs_background": "light"
     },
     "output_type": "display_data"
    },
    {
     "data": {
      "image/png": "[encoded data removed]",
      "text/plain": [
       "<Figure size 432x288 with 1 Axes>"
      ]
     },
     "metadata": {
      "needs_background": "light"
     },
     "output_type": "display_data"
    },
    {
     "data": {
      "image/png": "[encoded data removed]",
      "text/plain": [
       "<Figure size 432x288 with 1 Axes>"
      ]
     },
     "metadata": {
      "needs_background": "light"
     },
     "output_type": "display_data"
    },
    {
     "data": {
      "image/png": "[encoded data removed]",
      "text/plain": [
       "<Figure size 432x288 with 1 Axes>"
      ]
     },
     "metadata": {
      "needs_background": "light"
     },
     "output_type": "display_data"
    }
   ],
   "source": [
    "#Représentation sous forme d'un diagramme en bâtons \n",
    "\n",
    "plt.hist(can_dist, range = (0,5000), bins = 100)\n",
    "plt.xlabel('Distance')\n",
    "plt.ylabel('Occurences')\n",
    "plt.title('Canonical')\n",
    "plt.show()\n",
    "\n",
    "plt.hist(bulg_dist, range = (0,5000), bins = 100)\n",
    "plt.xlabel('Distance')\n",
    "plt.ylabel('Occurences')\n",
    "plt.title('Bulge')\n",
    "plt.show()\n",
    "\n",
    "plt.hist(gtrack_dist, range = (0,5000), bins = 100)\n",
    "plt.xlabel('Distance')\n",
    "plt.ylabel('Occurences')\n",
    "plt.title('G-track')\n",
    "plt.show()\n",
    "\n",
    "plt.hist(GVBQ_dist, range = (0,5000), bins = 100)\n",
    "plt.xlabel('Distance')\n",
    "plt.ylabel('Occurences')\n",
    "plt.title('GVBQ')\n",
    "plt.show()\n",
    "\n",
    "plt.hist(longloop_dist, range = (0,5000), bins = 100)\n",
    "plt.xlabel('Distance')\n",
    "plt.ylabel('Occurences')\n",
    "plt.title('LongLoop')\n",
    "plt.show()"
   ]
  },
  {
   "cell_type": "markdown",
   "metadata": {},
   "source": [
    "##### G4 proches des Ori / TSS"
   ]
  },
  {
   "cell_type": "code",
   "execution_count": 5,
   "metadata": {},
   "outputs": [
    {
     "name": "stdout",
     "output_type": "stream",
     "text": [
      "Pourcentage de G4 proche d'une Ori :  34.77873784889798 %\n",
      "Pourcentage de G4 proche d'un TSS :  8.473435232671878 %\n"
     ]
    }
   ],
   "source": [
    "ori = reader[reader['Ori'] > 0]\n",
    "tss = reader[reader['TSS'] > 0]\n",
    "print(\"Pourcentage de G4 proche d'une Ori : \", len(ori)/len(reader)*100, \"%\")\n",
    "print(\"Pourcentage de G4 proche d'un TSS : \", len(tss)/len(reader)*100, \"%\")\n",
    "\n",
    "ori_cluster = len(ori[ori['distClosestG4']<101])\n",
    "tss_cluster = len(tss[tss['distClosestG4']<101])\n",
    "\n",
    "ori_canonical = len(ori[ori['type'] == 'Canonical'])\n",
    "tss_canonical = len(tss[tss['type'] == 'Canonical'])\n",
    "\n",
    "ori_bulge = len(ori[ori['type'] == 'Bulge'])\n",
    "tss_bulge = len(tss[tss['type'] == 'Bulge'])\n",
    "\n",
    "ori_gtrack = len(ori[ori['type'] == 'G-track'])\n",
    "tss_gtrack = len(tss[tss['type'] == 'G-track'])\n",
    "\n",
    "ori_GVBQ = len(ori[ori['type'] == 'GVBQ'])\n",
    "tss_GVBQ = len(tss[tss['type'] == 'GVBQ'])\n",
    "\n",
    "ori_longloop = len(ori[ori['type'] == 'LongLoop'])\n",
    "tss_longloop = len(tss[tss['type'] == 'LongLoop'])"
   ]
  },
  {
   "cell_type": "code",
   "execution_count": 6,
   "metadata": {},
   "outputs": [
    {
     "data": {
      "image/png": "[encoded data removed]",
      "text/plain": [
       "<Figure size 432x288 with 1 Axes>"
      ]
     },
     "metadata": {
      "needs_background": "light"
     },
     "output_type": "display_data"
    },
    {
     "data": {
      "image/png": "[encoded data removed]",
      "text/plain": [
       "<Figure size 432x288 with 1 Axes>"
      ]
     },
     "metadata": {
      "needs_background": "light"
     },
     "output_type": "display_data"
    }
   ],
   "source": [
    "y1 = np.array([ori_cluster, ori_canonical, ori_bulge, ori_gtrack, ori_GVBQ, ori_longloop])\n",
    "y2 = np.array([tss_cluster, tss_canonical, tss_bulge, tss_gtrack, tss_GVBQ, tss_longloop])\n",
    "x = np.arange(6)\n",
    "largeur = .35\n",
    "\n",
    "labels = ['Cluster', 'Canonical', 'Bulge', 'G-track', 'GVBQ', 'LongLoop']\n",
    "\n",
    "fig, ax = plt.subplots()\n",
    "r1 = ax.bar(x - largeur/2, y1, largeur)\n",
    "r2 = ax.bar(x + largeur/2, y2, largeur)\n",
    "\n",
    "ax.set_xticks(x)\n",
    "ax.set_xticklabels(labels)\n",
    "\n",
    "plt.legend(['Ori', 'TSS'])\n",
    "plt.title(\"Number of G4 close to Ori or TSS per category\")\n",
    "plt.savefig('C:/Users/BlueC/Documents/Mines/Santé/Données et commentaires/fig3.jpg')\n",
    "\n",
    "plt.show()\n",
    "\n",
    "n = np.array([nb_cluster, nb_can, nb_bulg, nb_gtrack, nb_gvbq, nb_longloop])\n",
    "\n",
    "fig, ax = plt.subplots()\n",
    "r1 = ax.bar(x - largeur/2, y1/n, largeur)\n",
    "r2 = ax.bar(x + largeur/2, y2/n, largeur)\n",
    "\n",
    "ax.set_xticks(x)\n",
    "ax.set_xticklabels(labels)\n",
    "\n",
    "plt.legend(['Ori', 'TSS'])\n",
    "plt.title(\"Rate of G4 close to Ori or TSS per category\")\n",
    "plt.savefig('C:/Users/BlueC/Documents/Mines/Santé/Données et commentaires/fig4.jpg')\n",
    "\n",
    "plt.show()"
   ]
  },
  {
   "cell_type": "markdown",
   "metadata": {},
   "source": [
    "##### Taille des G4"
   ]
  },
  {
   "cell_type": "code",
   "execution_count": 7,
   "metadata": {},
   "outputs": [
    {
     "name": "stdout",
     "output_type": "stream",
     "text": [
      "Taille moyenne d'un G4 :  27.26776939169222\n"
     ]
    }
   ],
   "source": [
    "length = reader['end'] - reader['start'] + 1\n",
    "length_mean = length.mean()\n",
    "print(\"Taille moyenne d'un G4 : \", length_mean)\n",
    "\n",
    "#Pas cohérent avec les chiffres de l'article (36.4 bp) \n",
    "#mais plus cohérent dans l'absolu (taille max d'un G4 = 3*4 + 7*3 = 33)"
   ]
  },
  {
   "cell_type": "code",
   "execution_count": 8,
   "metadata": {},
   "outputs": [
    {
     "name": "stdout",
     "output_type": "stream",
     "text": [
      "Taille moyenne d'un G4 canonique :  27.932917816456943\n"
     ]
    }
   ],
   "source": [
    "can = reader[cat == 'Canonical']\n",
    "length = can['end'] - can['start'] + 1\n",
    "length_mean_can = length.mean()\n",
    "print(\"Taille moyenne d'un G4 canonique : \", length_mean_can)"
   ]
  },
  {
   "cell_type": "code",
   "execution_count": 9,
   "metadata": {},
   "outputs": [
    {
     "name": "stdout",
     "output_type": "stream",
     "text": [
      "Taille moyenne d'un G4 LongLoop :  34.06497519849131\n"
     ]
    }
   ],
   "source": [
    "long = reader[cat == 'LongLoop']\n",
    "length = long['end'] - long['start'] + 1\n",
    "length_mean = length.mean()\n",
    "print(\"Taille moyenne d'un G4 LongLoop : \", length_mean)"
   ]
  },
  {
   "cell_type": "code",
   "execution_count": 10,
   "metadata": {},
   "outputs": [
    {
     "data": {
      "image/png": "[encoded data removed]",
      "text/plain": [
       "<Figure size 432x288 with 1 Axes>"
      ]
     },
     "metadata": {
      "needs_background": "light"
     },
     "output_type": "display_data"
    },
    {
     "name": "stdout",
     "output_type": "stream",
     "text": [
      "Moy :  27.932917816456943 , Var :  58.12936158633862\n"
     ]
    },
    {
     "data": {
      "image/png": "[encoded data removed]",
      "text/plain": [
       "<Figure size 432x288 with 1 Axes>"
      ]
     },
     "metadata": {
      "needs_background": "light"
     },
     "output_type": "display_data"
    },
    {
     "name": "stdout",
     "output_type": "stream",
     "text": [
      "Moy :  27.111150994253503 , Var :  28.714322008585476\n"
     ]
    }
   ],
   "source": [
    "can = reader[cat == 'Canonical']\n",
    "can_length = can['end'] - can['start'] + 1\n",
    "\n",
    "res = plt.hist(can_length, range = (0,80), bins = 80, density = True)\n",
    "plt.xlabel('Longueur')\n",
    "plt.title('Distribution of the length of canonical G4')\n",
    "plt.savefig('C:/Users/BlueC/Documents/Mines/Santé/Données et commentaires/fig5.jpg')\n",
    "plt.show()\n",
    "print(\"Moy : \", can_length.mean(),\", Var : \", can_length.var())\n",
    "\n",
    "bulg = reader[cat == 'Bulge']\n",
    "bulg_length = bulg['end'] - bulg['start'] + 1\n",
    "\n",
    "res2 = plt.hist(bulg_length, range = (0,80), bins = 80, density = True)\n",
    "plt.xlabel('Longueur')\n",
    "plt.title('Distribution of the length of Bulge G4')\n",
    "plt.savefig('C:/Users/BlueC/Documents/Mines/Santé/Données et commentaires/fig6.jpg')\n",
    "plt.show()\n",
    "print(\"Moy : \", bulg_length.mean(),\", Var : \", bulg_length.var())\n"
   ]
  },
  {
   "cell_type": "markdown",
   "metadata": {},
   "source": [
    "### Simulation d'un jeu de données aléatoire"
   ]
  },
  {
   "cell_type": "code",
   "execution_count": 11,
   "metadata": {},
   "outputs": [
    {
     "data": {
      "text/html": [
       "<div>\n",
       "<style scoped>\n",
       "    .dataframe tbody tr th:only-of-type {\n",
       "        vertical-align: middle;\n",
       "    }\n",
       "\n",
       "    .dataframe tbody tr th {\n",
       "        vertical-align: top;\n",
       "    }\n",
       "\n",
       "    .dataframe thead th {\n",
       "        text-align: right;\n",
       "    }\n",
       "</style>\n",
       "<table border=\"1\" class=\"dataframe\">\n",
       "  <thead>\n",
       "    <tr style=\"text-align: right;\">\n",
       "      <th></th>\n",
       "      <th>chr</th>\n",
       "      <th>nb</th>\n",
       "    </tr>\n",
       "  </thead>\n",
       "  <tbody>\n",
       "    <tr>\n",
       "      <th>0</th>\n",
       "      <td>chr1</td>\n",
       "      <td>249250621</td>\n",
       "    </tr>\n",
       "    <tr>\n",
       "      <th>1</th>\n",
       "      <td>chr2</td>\n",
       "      <td>243199373</td>\n",
       "    </tr>\n",
       "    <tr>\n",
       "      <th>2</th>\n",
       "      <td>chr3</td>\n",
       "      <td>198022430</td>\n",
       "    </tr>\n",
       "    <tr>\n",
       "      <th>3</th>\n",
       "      <td>chr4</td>\n",
       "      <td>191154276</td>\n",
       "    </tr>\n",
       "    <tr>\n",
       "      <th>4</th>\n",
       "      <td>chr5</td>\n",
       "      <td>180915260</td>\n",
       "    </tr>\n",
       "    <tr>\n",
       "      <th>5</th>\n",
       "      <td>chr6</td>\n",
       "      <td>171115067</td>\n",
       "    </tr>\n",
       "    <tr>\n",
       "      <th>6</th>\n",
       "      <td>chr7</td>\n",
       "      <td>159138663</td>\n",
       "    </tr>\n",
       "    <tr>\n",
       "      <th>7</th>\n",
       "      <td>chrX</td>\n",
       "      <td>155270560</td>\n",
       "    </tr>\n",
       "    <tr>\n",
       "      <th>8</th>\n",
       "      <td>chr8</td>\n",
       "      <td>146364022</td>\n",
       "    </tr>\n",
       "    <tr>\n",
       "      <th>9</th>\n",
       "      <td>chr9</td>\n",
       "      <td>141213431</td>\n",
       "    </tr>\n",
       "    <tr>\n",
       "      <th>10</th>\n",
       "      <td>chr10</td>\n",
       "      <td>135534747</td>\n",
       "    </tr>\n",
       "    <tr>\n",
       "      <th>11</th>\n",
       "      <td>chr11</td>\n",
       "      <td>135006516</td>\n",
       "    </tr>\n",
       "    <tr>\n",
       "      <th>12</th>\n",
       "      <td>chr12</td>\n",
       "      <td>133851895</td>\n",
       "    </tr>\n",
       "    <tr>\n",
       "      <th>13</th>\n",
       "      <td>chr13</td>\n",
       "      <td>115169878</td>\n",
       "    </tr>\n",
       "    <tr>\n",
       "      <th>14</th>\n",
       "      <td>chr14</td>\n",
       "      <td>107349540</td>\n",
       "    </tr>\n",
       "    <tr>\n",
       "      <th>15</th>\n",
       "      <td>chr15</td>\n",
       "      <td>102531392</td>\n",
       "    </tr>\n",
       "    <tr>\n",
       "      <th>16</th>\n",
       "      <td>chr16</td>\n",
       "      <td>90354753</td>\n",
       "    </tr>\n",
       "    <tr>\n",
       "      <th>17</th>\n",
       "      <td>chr17</td>\n",
       "      <td>81195210</td>\n",
       "    </tr>\n",
       "    <tr>\n",
       "      <th>18</th>\n",
       "      <td>chr18</td>\n",
       "      <td>78077248</td>\n",
       "    </tr>\n",
       "    <tr>\n",
       "      <th>19</th>\n",
       "      <td>chr20</td>\n",
       "      <td>63025520</td>\n",
       "    </tr>\n",
       "    <tr>\n",
       "      <th>20</th>\n",
       "      <td>chrY</td>\n",
       "      <td>59373566</td>\n",
       "    </tr>\n",
       "    <tr>\n",
       "      <th>21</th>\n",
       "      <td>chr19</td>\n",
       "      <td>59128983</td>\n",
       "    </tr>\n",
       "    <tr>\n",
       "      <th>22</th>\n",
       "      <td>chr22</td>\n",
       "      <td>51304566</td>\n",
       "    </tr>\n",
       "    <tr>\n",
       "      <th>23</th>\n",
       "      <td>chr21</td>\n",
       "      <td>48129895</td>\n",
       "    </tr>\n",
       "    <tr>\n",
       "      <th>24</th>\n",
       "      <td>chr6_ssto_hap7</td>\n",
       "      <td>4928567</td>\n",
       "    </tr>\n",
       "    <tr>\n",
       "      <th>25</th>\n",
       "      <td>chr6_mcf_hap5</td>\n",
       "      <td>4833398</td>\n",
       "    </tr>\n",
       "    <tr>\n",
       "      <th>26</th>\n",
       "      <td>chr6_cox_hap2</td>\n",
       "      <td>4795371</td>\n",
       "    </tr>\n",
       "    <tr>\n",
       "      <th>27</th>\n",
       "      <td>chr6_mann_hap4</td>\n",
       "      <td>4683263</td>\n",
       "    </tr>\n",
       "    <tr>\n",
       "      <th>28</th>\n",
       "      <td>chr6_apd_hap1</td>\n",
       "      <td>4622290</td>\n",
       "    </tr>\n",
       "    <tr>\n",
       "      <th>29</th>\n",
       "      <td>chr6_qbl_hap6</td>\n",
       "      <td>4611984</td>\n",
       "    </tr>\n",
       "    <tr>\n",
       "      <th>30</th>\n",
       "      <td>chr6_dbb_hap3</td>\n",
       "      <td>4610396</td>\n",
       "    </tr>\n",
       "    <tr>\n",
       "      <th>31</th>\n",
       "      <td>chr17_ctg5_hap1</td>\n",
       "      <td>1680828</td>\n",
       "    </tr>\n",
       "    <tr>\n",
       "      <th>32</th>\n",
       "      <td>chr4_ctg9_hap1</td>\n",
       "      <td>590426</td>\n",
       "    </tr>\n",
       "    <tr>\n",
       "      <th>33</th>\n",
       "      <td>chrM</td>\n",
       "      <td>16571</td>\n",
       "    </tr>\n",
       "  </tbody>\n",
       "</table>\n",
       "</div>"
      ],
      "text/plain": [
       "                chr         nb\n",
       "0              chr1  249250621\n",
       "1              chr2  243199373\n",
       "2              chr3  198022430\n",
       "3              chr4  191154276\n",
       "4              chr5  180915260\n",
       "5              chr6  171115067\n",
       "6              chr7  159138663\n",
       "7              chrX  155270560\n",
       "8              chr8  146364022\n",
       "9              chr9  141213431\n",
       "10            chr10  135534747\n",
       "11            chr11  135006516\n",
       "12            chr12  133851895\n",
       "13            chr13  115169878\n",
       "14            chr14  107349540\n",
       "15            chr15  102531392\n",
       "16            chr16   90354753\n",
       "17            chr17   81195210\n",
       "18            chr18   78077248\n",
       "19            chr20   63025520\n",
       "20             chrY   59373566\n",
       "21            chr19   59128983\n",
       "22            chr22   51304566\n",
       "23            chr21   48129895\n",
       "24   chr6_ssto_hap7    4928567\n",
       "25    chr6_mcf_hap5    4833398\n",
       "26    chr6_cox_hap2    4795371\n",
       "27   chr6_mann_hap4    4683263\n",
       "28    chr6_apd_hap1    4622290\n",
       "29    chr6_qbl_hap6    4611984\n",
       "30    chr6_dbb_hap3    4610396\n",
       "31  chr17_ctg5_hap1    1680828\n",
       "32   chr4_ctg9_hap1     590426\n",
       "33             chrM      16571"
      ]
     },
     "execution_count": 11,
     "metadata": {},
     "output_type": "execute_result"
    }
   ],
   "source": [
    "file2 = open('C:/Users/BlueC/Documents/Mines/Santé/Code/hg19.genome.main.chr')\n",
    "reader2 = pd.read_csv(file2, delimiter='\\t')\n",
    "ligne0 = reader2.columns\n",
    "reader2.loc[33] = ligne0\n",
    "reader2.columns = ['chr', 'nb']\n",
    "\n",
    "#Remise dans l'ordre\n",
    "reader2.loc[34] = ligne0\n",
    "reader2 = reader2.shift(periods = 1)\n",
    "reader2.loc[0] = reader2.loc[34]\n",
    "reader2 = reader2.drop([34])\n",
    "reader2"
   ]
  },
  {
   "cell_type": "code",
   "execution_count": 12,
   "metadata": {},
   "outputs": [],
   "source": [
    "def nb_G4chrom(liste,cat,chrom):\n",
    "    liste_bis = liste[liste['chr'] == chrom]\n",
    "    liste_bis = liste_bis[liste_bis['type'] == cat]\n",
    "    return len(liste_bis)\n",
    "\n",
    "def proba_G4chrom(liste,cat,chrom):\n",
    "    can = reader[reader['type'] == cat]\n",
    "    can_length = can['end'] - can['start'] + 1\n",
    "\n",
    "    res = plt.hist(can_length, range = (0,80), bins = 80, density = True)\n",
    "    prob = res[0]\n",
    "    density_prob = [prob[0]]\n",
    "    for i in range(1,len(prob)):\n",
    "        density_prob.append(density_prob[i-1] + prob[i])\n",
    "    return density_prob\n",
    "\n",
    "def dist(list_random):\n",
    "    list_random_plusone = list_random.shift(periods=1)\n",
    "    list_random_minusone = list_random.shift(periods = -1)\n",
    "    dist1 = - list_random_plusone['end'] + list_random['start']\n",
    "    dist2 =  - list_random['end'] + list_random_minusone['start']\n",
    "    dist = pd.DataFrame(columns = ['dist1','dist2'])\n",
    "    dist['dist1'] = dist1\n",
    "    dist['dist2'] = dist2\n",
    "    result = dist.min(axis = 1).astype(int)\n",
    "    return result\n",
    "\n",
    "def v_longueur(proba,np_proba):\n",
    "    l = proba[len(proba)-1]\n",
    "    i = len(proba)-1\n",
    "    for i in range (len(proba)-1):\n",
    "        np_proba[(proba[i] < np_proba) & (np_proba <= proba[i+1])] = i\n",
    "    return np_proba"
   ]
  },
  {
   "cell_type": "code",
   "execution_count": 39,
   "metadata": {},
   "outputs": [],
   "source": [
    "list_random_2 = pd.DataFrame(columns = reader.columns)\n",
    "dico_nb_cat = {'Canonical':0, 'Bulge':0, 'GVBQ':0, 'LongLoop':0}\n",
    "dico_proba_cat = {'Canonical':0, 'Bulge':0, 'GVBQ':0, 'LongLoop':0}\n",
    "\n",
    "nu = 0"
   ]
  },
  {
   "cell_type": "code",
   "execution_count": 14,
   "metadata": {},
   "outputs": [
    {
     "name": "stdout",
     "output_type": "stream",
     "text": [
      "chr1\n",
      "chr2\n",
      "chr3\n",
      "chr4\n"
     ]
    },
    {
     "ename": "KeyboardInterrupt",
     "evalue": "",
     "output_type": "error",
     "traceback": [
      "\u001b[1;31m---------------------------------------------------------------------------\u001b[0m",
      "\u001b[1;31mKeyboardInterrupt\u001b[0m                         Traceback (most recent call last)",
      "\u001b[1;32m<ipython-input-14-9a14f365f668>\u001b[0m in \u001b[0;36m<module>\u001b[1;34m\u001b[0m\n\u001b[0;32m      6\u001b[0m     \u001b[1;32mfor\u001b[0m \u001b[0mcat\u001b[0m\u001b[1;33m,\u001b[0m\u001b[0mnb\u001b[0m \u001b[1;32min\u001b[0m \u001b[0mdico_nb_cat\u001b[0m\u001b[1;33m.\u001b[0m\u001b[0mitems\u001b[0m\u001b[1;33m(\u001b[0m\u001b[1;33m)\u001b[0m\u001b[1;33m:\u001b[0m\u001b[1;33m\u001b[0m\u001b[1;33m\u001b[0m\u001b[0m\n\u001b[0;32m      7\u001b[0m         \u001b[0mdico_nb_cat\u001b[0m\u001b[1;33m[\u001b[0m\u001b[0mcat\u001b[0m\u001b[1;33m]\u001b[0m \u001b[1;33m=\u001b[0m \u001b[0mnb_G4chrom\u001b[0m\u001b[1;33m(\u001b[0m\u001b[0mreader\u001b[0m\u001b[1;33m,\u001b[0m\u001b[0mcat\u001b[0m\u001b[1;33m,\u001b[0m\u001b[0mchrom\u001b[0m\u001b[1;33m)\u001b[0m\u001b[1;33m\u001b[0m\u001b[1;33m\u001b[0m\u001b[0m\n\u001b[1;32m----> 8\u001b[1;33m         \u001b[0mdico_proba_cat\u001b[0m\u001b[1;33m[\u001b[0m\u001b[0mcat\u001b[0m\u001b[1;33m]\u001b[0m \u001b[1;33m=\u001b[0m \u001b[0mproba_G4chrom\u001b[0m\u001b[1;33m(\u001b[0m\u001b[0mreader\u001b[0m\u001b[1;33m,\u001b[0m\u001b[0mcat\u001b[0m\u001b[1;33m,\u001b[0m\u001b[0mchrom\u001b[0m\u001b[1;33m)\u001b[0m\u001b[1;33m\u001b[0m\u001b[1;33m\u001b[0m\u001b[0m\n\u001b[0m\u001b[0;32m      9\u001b[0m \u001b[1;33m\u001b[0m\u001b[0m\n\u001b[0;32m     10\u001b[0m     \u001b[0mn_tot\u001b[0m \u001b[1;33m=\u001b[0m \u001b[1;36m0\u001b[0m\u001b[1;33m\u001b[0m\u001b[1;33m\u001b[0m\u001b[0m\n",
      "\u001b[1;32m<ipython-input-12-96d28728535b>\u001b[0m in \u001b[0;36mproba_G4chrom\u001b[1;34m(liste, cat, chrom)\u001b[0m\n\u001b[0;32m      5\u001b[0m \u001b[1;33m\u001b[0m\u001b[0m\n\u001b[0;32m      6\u001b[0m \u001b[1;32mdef\u001b[0m \u001b[0mproba_G4chrom\u001b[0m\u001b[1;33m(\u001b[0m\u001b[0mliste\u001b[0m\u001b[1;33m,\u001b[0m\u001b[0mcat\u001b[0m\u001b[1;33m,\u001b[0m\u001b[0mchrom\u001b[0m\u001b[1;33m)\u001b[0m\u001b[1;33m:\u001b[0m\u001b[1;33m\u001b[0m\u001b[1;33m\u001b[0m\u001b[0m\n\u001b[1;32m----> 7\u001b[1;33m     \u001b[0mcan\u001b[0m \u001b[1;33m=\u001b[0m \u001b[0mreader\u001b[0m\u001b[1;33m[\u001b[0m\u001b[0mreader\u001b[0m\u001b[1;33m[\u001b[0m\u001b[1;34m'type'\u001b[0m\u001b[1;33m]\u001b[0m \u001b[1;33m==\u001b[0m \u001b[0mcat\u001b[0m\u001b[1;33m]\u001b[0m\u001b[1;33m\u001b[0m\u001b[1;33m\u001b[0m\u001b[0m\n\u001b[0m\u001b[0;32m      8\u001b[0m     \u001b[0mcan_length\u001b[0m \u001b[1;33m=\u001b[0m \u001b[0mcan\u001b[0m\u001b[1;33m[\u001b[0m\u001b[1;34m'end'\u001b[0m\u001b[1;33m]\u001b[0m \u001b[1;33m-\u001b[0m \u001b[0mcan\u001b[0m\u001b[1;33m[\u001b[0m\u001b[1;34m'start'\u001b[0m\u001b[1;33m]\u001b[0m \u001b[1;33m+\u001b[0m \u001b[1;36m1\u001b[0m\u001b[1;33m\u001b[0m\u001b[1;33m\u001b[0m\u001b[0m\n\u001b[0;32m      9\u001b[0m \u001b[1;33m\u001b[0m\u001b[0m\n",
      "\u001b[1;32mc:\\users\\bluec\\miniconda3\\lib\\site-packages\\pandas\\core\\ops\\common.py\u001b[0m in \u001b[0;36mnew_method\u001b[1;34m(self, other)\u001b[0m\n\u001b[0;32m     63\u001b[0m         \u001b[0mother\u001b[0m \u001b[1;33m=\u001b[0m \u001b[0mitem_from_zerodim\u001b[0m\u001b[1;33m(\u001b[0m\u001b[0mother\u001b[0m\u001b[1;33m)\u001b[0m\u001b[1;33m\u001b[0m\u001b[1;33m\u001b[0m\u001b[0m\n\u001b[0;32m     64\u001b[0m \u001b[1;33m\u001b[0m\u001b[0m\n\u001b[1;32m---> 65\u001b[1;33m         \u001b[1;32mreturn\u001b[0m \u001b[0mmethod\u001b[0m\u001b[1;33m(\u001b[0m\u001b[0mself\u001b[0m\u001b[1;33m,\u001b[0m \u001b[0mother\u001b[0m\u001b[1;33m)\u001b[0m\u001b[1;33m\u001b[0m\u001b[1;33m\u001b[0m\u001b[0m\n\u001b[0m\u001b[0;32m     66\u001b[0m \u001b[1;33m\u001b[0m\u001b[0m\n\u001b[0;32m     67\u001b[0m     \u001b[1;32mreturn\u001b[0m \u001b[0mnew_method\u001b[0m\u001b[1;33m\u001b[0m\u001b[1;33m\u001b[0m\u001b[0m\n",
      "\u001b[1;32mc:\\users\\bluec\\miniconda3\\lib\\site-packages\\pandas\\core\\ops\\__init__.py\u001b[0m in \u001b[0;36mwrapper\u001b[1;34m(self, other)\u001b[0m\n\u001b[0;32m    368\u001b[0m         \u001b[0mrvalues\u001b[0m \u001b[1;33m=\u001b[0m \u001b[0mextract_array\u001b[0m\u001b[1;33m(\u001b[0m\u001b[0mother\u001b[0m\u001b[1;33m,\u001b[0m \u001b[0mextract_numpy\u001b[0m\u001b[1;33m=\u001b[0m\u001b[1;32mTrue\u001b[0m\u001b[1;33m)\u001b[0m\u001b[1;33m\u001b[0m\u001b[1;33m\u001b[0m\u001b[0m\n\u001b[0;32m    369\u001b[0m \u001b[1;33m\u001b[0m\u001b[0m\n\u001b[1;32m--> 370\u001b[1;33m         \u001b[0mres_values\u001b[0m \u001b[1;33m=\u001b[0m \u001b[0mcomparison_op\u001b[0m\u001b[1;33m(\u001b[0m\u001b[0mlvalues\u001b[0m\u001b[1;33m,\u001b[0m \u001b[0mrvalues\u001b[0m\u001b[1;33m,\u001b[0m \u001b[0mop\u001b[0m\u001b[1;33m)\u001b[0m\u001b[1;33m\u001b[0m\u001b[1;33m\u001b[0m\u001b[0m\n\u001b[0m\u001b[0;32m    371\u001b[0m \u001b[1;33m\u001b[0m\u001b[0m\n\u001b[0;32m    372\u001b[0m         \u001b[1;32mreturn\u001b[0m \u001b[0mself\u001b[0m\u001b[1;33m.\u001b[0m\u001b[0m_construct_result\u001b[0m\u001b[1;33m(\u001b[0m\u001b[0mres_values\u001b[0m\u001b[1;33m,\u001b[0m \u001b[0mname\u001b[0m\u001b[1;33m=\u001b[0m\u001b[0mres_name\u001b[0m\u001b[1;33m)\u001b[0m\u001b[1;33m\u001b[0m\u001b[1;33m\u001b[0m\u001b[0m\n",
      "\u001b[1;32mc:\\users\\bluec\\miniconda3\\lib\\site-packages\\pandas\\core\\ops\\array_ops.py\u001b[0m in \u001b[0;36mcomparison_op\u001b[1;34m(left, right, op)\u001b[0m\n\u001b[0;32m    237\u001b[0m \u001b[1;33m\u001b[0m\u001b[0m\n\u001b[0;32m    238\u001b[0m     \u001b[1;32melif\u001b[0m \u001b[0mis_object_dtype\u001b[0m\u001b[1;33m(\u001b[0m\u001b[0mlvalues\u001b[0m\u001b[1;33m.\u001b[0m\u001b[0mdtype\u001b[0m\u001b[1;33m)\u001b[0m\u001b[1;33m:\u001b[0m\u001b[1;33m\u001b[0m\u001b[1;33m\u001b[0m\u001b[0m\n\u001b[1;32m--> 239\u001b[1;33m         \u001b[0mres_values\u001b[0m \u001b[1;33m=\u001b[0m \u001b[0mcomp_method_OBJECT_ARRAY\u001b[0m\u001b[1;33m(\u001b[0m\u001b[0mop\u001b[0m\u001b[1;33m,\u001b[0m \u001b[0mlvalues\u001b[0m\u001b[1;33m,\u001b[0m \u001b[0mrvalues\u001b[0m\u001b[1;33m)\u001b[0m\u001b[1;33m\u001b[0m\u001b[1;33m\u001b[0m\u001b[0m\n\u001b[0m\u001b[0;32m    240\u001b[0m \u001b[1;33m\u001b[0m\u001b[0m\n\u001b[0;32m    241\u001b[0m     \u001b[1;32melse\u001b[0m\u001b[1;33m:\u001b[0m\u001b[1;33m\u001b[0m\u001b[1;33m\u001b[0m\u001b[0m\n",
      "\u001b[1;32mc:\\users\\bluec\\miniconda3\\lib\\site-packages\\pandas\\core\\ops\\array_ops.py\u001b[0m in \u001b[0;36mcomp_method_OBJECT_ARRAY\u001b[1;34m(op, x, y)\u001b[0m\n\u001b[0;32m     54\u001b[0m     \u001b[1;32melse\u001b[0m\u001b[1;33m:\u001b[0m\u001b[1;33m\u001b[0m\u001b[1;33m\u001b[0m\u001b[0m\n\u001b[0;32m     55\u001b[0m         \u001b[0mresult\u001b[0m \u001b[1;33m=\u001b[0m \u001b[0mlibops\u001b[0m\u001b[1;33m.\u001b[0m\u001b[0mscalar_compare\u001b[0m\u001b[1;33m(\u001b[0m\u001b[0mx\u001b[0m\u001b[1;33m.\u001b[0m\u001b[0mravel\u001b[0m\u001b[1;33m(\u001b[0m\u001b[1;33m)\u001b[0m\u001b[1;33m,\u001b[0m \u001b[0my\u001b[0m\u001b[1;33m,\u001b[0m \u001b[0mop\u001b[0m\u001b[1;33m)\u001b[0m\u001b[1;33m\u001b[0m\u001b[1;33m\u001b[0m\u001b[0m\n\u001b[1;32m---> 56\u001b[1;33m     \u001b[1;32mreturn\u001b[0m \u001b[0mresult\u001b[0m\u001b[1;33m.\u001b[0m\u001b[0mreshape\u001b[0m\u001b[1;33m(\u001b[0m\u001b[0mx\u001b[0m\u001b[1;33m.\u001b[0m\u001b[0mshape\u001b[0m\u001b[1;33m)\u001b[0m\u001b[1;33m\u001b[0m\u001b[1;33m\u001b[0m\u001b[0m\n\u001b[0m\u001b[0;32m     57\u001b[0m \u001b[1;33m\u001b[0m\u001b[0m\n\u001b[0;32m     58\u001b[0m \u001b[1;33m\u001b[0m\u001b[0m\n",
      "\u001b[1;31mKeyboardInterrupt\u001b[0m: "
     ]
    },
    {
     "data": {
      "image/png": "[encoded data removed]",
      "text/plain": [
       "<Figure size 432x288 with 1 Axes>"
      ]
     },
     "metadata": {
      "needs_background": "light"
     },
     "output_type": "display_data"
    }
   ],
   "source": [
    "for index, line in reader2.iterrows():\n",
    "    chrom = line['chr']\n",
    "    length_chrom = line['nb']\n",
    "    list_interm = pd.DataFrame(columns = reader.columns)\n",
    "    \n",
    "    for cat,nb in dico_nb_cat.items():\n",
    "        dico_nb_cat[cat] = nb_G4chrom(reader,cat,chrom)\n",
    "        dico_proba_cat[cat] = proba_G4chrom(reader,cat,chrom)\n",
    "    \n",
    "    n_tot = 0\n",
    "\n",
    "    for cat,nb in (dico_nb_cat.items()):\n",
    "        n_tot += nb\n",
    "\n",
    "    cat_column = np.zeros([n_tot,2])\n",
    "    cat_type = []\n",
    "    \n",
    "    ni = 0\n",
    "    for cat,nb in (dico_nb_cat.items()):\n",
    "        proba = dico_proba_cat[cat]\n",
    "\n",
    "        col1 = np.random.randint(0,length_chrom, size = nb)\n",
    "        col2 = np.random.random(size = nb)\n",
    "        col2_bis = v_longueur(proba, col2)\n",
    "        col3 = col1 + col2_bis\n",
    "\n",
    "        cat_column[ni:ni+nb][:,0] = col1\n",
    "        cat_column[ni:ni+nb][:,1] = col3\n",
    "        cat_type += [cat]*nb\n",
    "        ni += nb\n",
    "    \n",
    "    list_interm['start'] = cat_column[:,0].astype(int)\n",
    "    list_interm['end'] = cat_column[:,1].astype(int)\n",
    "    list_interm['chr'] = chrom\n",
    "    list_interm['type'] = cat_type\n",
    "    list_interm = list_interm.sort_values(by = 'start')\n",
    "    list_interm['distClosestG4'] = dist(list_interm)\n",
    "    \n",
    "    list_random_2 = pd.concat([list_random_2,list_interm])\n",
    "    \n",
    "    \n",
    "    nu += n_tot\n",
    "    print(chrom)\n",
    "    \n",
    "list_random_2 = list_random_2.reset_index(drop = True)\n",
    "list_random_2\n",
    "    \n",
    "    "
   ]
  },
  {
   "cell_type": "code",
   "execution_count": null,
   "metadata": {},
   "outputs": [],
   "source": [
    "list_random_2 = list_random_2[list_random_2['distClosestG4']>0] #on enlève les chevauchements"
   ]
  },
  {
   "cell_type": "markdown",
   "metadata": {},
   "source": [
    "##### Vérification de la base de données"
   ]
  },
  {
   "cell_type": "code",
   "execution_count": 17,
   "metadata": {},
   "outputs": [
    {
     "data": {
      "image/png": "[encoded data removed]",
      "text/plain": [
       "<Figure size 1080x360 with 2 Axes>"
      ]
     },
     "metadata": {
      "needs_background": "light"
     },
     "output_type": "display_data"
    },
    {
     "name": "stdout",
     "output_type": "stream",
     "text": [
      "Moy :  27.987769514859284 , Var :  58.217223499357615\n",
      "Moy :  27.983352982519783 , Var :  57.34311702692706\n"
     ]
    }
   ],
   "source": [
    "can = reader[reader['type'] == 'Canonical']\n",
    "can_length = can['end'] - can['start'] + 1\n",
    "\n",
    "can_rd = list_random_2[list_random_2['type'] == 'Canonical']\n",
    "can_rd_length = can_rd['end'] - can_rd['start'] + 1\n",
    "\n",
    "plt.figure(figsize = (15,5))\n",
    "plt.subplot(121)\n",
    "res = plt.hist(can_length, range = (0,80), bins = 80, density = True)\n",
    "plt.xlabel('Longueur')\n",
    "plt.title('Standard')\n",
    "\n",
    "plt.subplot(122)\n",
    "res = plt.hist(can_length, range = (0,80), bins = 80, density = True)\n",
    "plt.xlabel('Longueur')\n",
    "plt.title('Random')\n",
    "\n",
    "\n",
    "plt.show()\n",
    "print(\"Moy : \", can_length.mean(),\", Var : \", can_length.var())\n",
    "print(\"Moy : \", can_rd_length.mean(),\", Var : \", can_rd_length.var())\n"
   ]
  },
  {
   "cell_type": "markdown",
   "metadata": {},
   "source": [
    "##### Sauvegarde de la base de données"
   ]
  },
  {
   "cell_type": "code",
   "execution_count": 27,
   "metadata": {},
   "outputs": [],
   "source": [
    "list_random_2.to_csv('random_G4.csv')"
   ]
  },
  {
   "cell_type": "markdown",
   "metadata": {},
   "source": [
    "#### Comparaison de la base aléatoire et de la base de référence"
   ]
  },
  {
   "cell_type": "code",
   "execution_count": 34,
   "metadata": {},
   "outputs": [
    {
     "data": {
      "text/html": [
       "<div>\n",
       "<style scoped>\n",
       "    .dataframe tbody tr th:only-of-type {\n",
       "        vertical-align: middle;\n",
       "    }\n",
       "\n",
       "    .dataframe tbody tr th {\n",
       "        vertical-align: top;\n",
       "    }\n",
       "\n",
       "    .dataframe thead th {\n",
       "        text-align: right;\n",
       "    }\n",
       "</style>\n",
       "<table border=\"1\" class=\"dataframe\">\n",
       "  <thead>\n",
       "    <tr style=\"text-align: right;\">\n",
       "      <th></th>\n",
       "      <th>chr</th>\n",
       "      <th>nb</th>\n",
       "    </tr>\n",
       "  </thead>\n",
       "  <tbody>\n",
       "    <tr>\n",
       "      <th>0</th>\n",
       "      <td>chr1</td>\n",
       "      <td>249250621</td>\n",
       "    </tr>\n",
       "    <tr>\n",
       "      <th>1</th>\n",
       "      <td>chr2</td>\n",
       "      <td>243199373</td>\n",
       "    </tr>\n",
       "    <tr>\n",
       "      <th>2</th>\n",
       "      <td>chr3</td>\n",
       "      <td>198022430</td>\n",
       "    </tr>\n",
       "    <tr>\n",
       "      <th>3</th>\n",
       "      <td>chr4</td>\n",
       "      <td>191154276</td>\n",
       "    </tr>\n",
       "    <tr>\n",
       "      <th>4</th>\n",
       "      <td>chr5</td>\n",
       "      <td>180915260</td>\n",
       "    </tr>\n",
       "    <tr>\n",
       "      <th>5</th>\n",
       "      <td>chr6</td>\n",
       "      <td>171115067</td>\n",
       "    </tr>\n",
       "    <tr>\n",
       "      <th>6</th>\n",
       "      <td>chr7</td>\n",
       "      <td>159138663</td>\n",
       "    </tr>\n",
       "    <tr>\n",
       "      <th>7</th>\n",
       "      <td>chrX</td>\n",
       "      <td>155270560</td>\n",
       "    </tr>\n",
       "    <tr>\n",
       "      <th>8</th>\n",
       "      <td>chr8</td>\n",
       "      <td>146364022</td>\n",
       "    </tr>\n",
       "    <tr>\n",
       "      <th>9</th>\n",
       "      <td>chr9</td>\n",
       "      <td>141213431</td>\n",
       "    </tr>\n",
       "    <tr>\n",
       "      <th>10</th>\n",
       "      <td>chr10</td>\n",
       "      <td>135534747</td>\n",
       "    </tr>\n",
       "    <tr>\n",
       "      <th>11</th>\n",
       "      <td>chr11</td>\n",
       "      <td>135006516</td>\n",
       "    </tr>\n",
       "    <tr>\n",
       "      <th>12</th>\n",
       "      <td>chr12</td>\n",
       "      <td>133851895</td>\n",
       "    </tr>\n",
       "    <tr>\n",
       "      <th>13</th>\n",
       "      <td>chr13</td>\n",
       "      <td>115169878</td>\n",
       "    </tr>\n",
       "    <tr>\n",
       "      <th>14</th>\n",
       "      <td>chr14</td>\n",
       "      <td>107349540</td>\n",
       "    </tr>\n",
       "    <tr>\n",
       "      <th>15</th>\n",
       "      <td>chr15</td>\n",
       "      <td>102531392</td>\n",
       "    </tr>\n",
       "    <tr>\n",
       "      <th>16</th>\n",
       "      <td>chr16</td>\n",
       "      <td>90354753</td>\n",
       "    </tr>\n",
       "    <tr>\n",
       "      <th>17</th>\n",
       "      <td>chr17</td>\n",
       "      <td>81195210</td>\n",
       "    </tr>\n",
       "    <tr>\n",
       "      <th>18</th>\n",
       "      <td>chr18</td>\n",
       "      <td>78077248</td>\n",
       "    </tr>\n",
       "    <tr>\n",
       "      <th>19</th>\n",
       "      <td>chr20</td>\n",
       "      <td>63025520</td>\n",
       "    </tr>\n",
       "    <tr>\n",
       "      <th>20</th>\n",
       "      <td>chrY</td>\n",
       "      <td>59373566</td>\n",
       "    </tr>\n",
       "    <tr>\n",
       "      <th>21</th>\n",
       "      <td>chr19</td>\n",
       "      <td>59128983</td>\n",
       "    </tr>\n",
       "    <tr>\n",
       "      <th>22</th>\n",
       "      <td>chr22</td>\n",
       "      <td>51304566</td>\n",
       "    </tr>\n",
       "    <tr>\n",
       "      <th>23</th>\n",
       "      <td>chr21</td>\n",
       "      <td>48129895</td>\n",
       "    </tr>\n",
       "    <tr>\n",
       "      <th>24</th>\n",
       "      <td>chr6_ssto_hap7</td>\n",
       "      <td>4928567</td>\n",
       "    </tr>\n",
       "    <tr>\n",
       "      <th>25</th>\n",
       "      <td>chr6_mcf_hap5</td>\n",
       "      <td>4833398</td>\n",
       "    </tr>\n",
       "    <tr>\n",
       "      <th>26</th>\n",
       "      <td>chr6_cox_hap2</td>\n",
       "      <td>4795371</td>\n",
       "    </tr>\n",
       "    <tr>\n",
       "      <th>27</th>\n",
       "      <td>chr6_mann_hap4</td>\n",
       "      <td>4683263</td>\n",
       "    </tr>\n",
       "    <tr>\n",
       "      <th>28</th>\n",
       "      <td>chr6_apd_hap1</td>\n",
       "      <td>4622290</td>\n",
       "    </tr>\n",
       "    <tr>\n",
       "      <th>29</th>\n",
       "      <td>chr6_qbl_hap6</td>\n",
       "      <td>4611984</td>\n",
       "    </tr>\n",
       "    <tr>\n",
       "      <th>30</th>\n",
       "      <td>chr6_dbb_hap3</td>\n",
       "      <td>4610396</td>\n",
       "    </tr>\n",
       "    <tr>\n",
       "      <th>31</th>\n",
       "      <td>chr17_ctg5_hap1</td>\n",
       "      <td>1680828</td>\n",
       "    </tr>\n",
       "    <tr>\n",
       "      <th>32</th>\n",
       "      <td>chr4_ctg9_hap1</td>\n",
       "      <td>590426</td>\n",
       "    </tr>\n",
       "    <tr>\n",
       "      <th>33</th>\n",
       "      <td>chrM</td>\n",
       "      <td>16571</td>\n",
       "    </tr>\n",
       "  </tbody>\n",
       "</table>\n",
       "</div>"
      ],
      "text/plain": [
       "                chr         nb\n",
       "0              chr1  249250621\n",
       "1              chr2  243199373\n",
       "2              chr3  198022430\n",
       "3              chr4  191154276\n",
       "4              chr5  180915260\n",
       "5              chr6  171115067\n",
       "6              chr7  159138663\n",
       "7              chrX  155270560\n",
       "8              chr8  146364022\n",
       "9              chr9  141213431\n",
       "10            chr10  135534747\n",
       "11            chr11  135006516\n",
       "12            chr12  133851895\n",
       "13            chr13  115169878\n",
       "14            chr14  107349540\n",
       "15            chr15  102531392\n",
       "16            chr16   90354753\n",
       "17            chr17   81195210\n",
       "18            chr18   78077248\n",
       "19            chr20   63025520\n",
       "20             chrY   59373566\n",
       "21            chr19   59128983\n",
       "22            chr22   51304566\n",
       "23            chr21   48129895\n",
       "24   chr6_ssto_hap7    4928567\n",
       "25    chr6_mcf_hap5    4833398\n",
       "26    chr6_cox_hap2    4795371\n",
       "27   chr6_mann_hap4    4683263\n",
       "28    chr6_apd_hap1    4622290\n",
       "29    chr6_qbl_hap6    4611984\n",
       "30    chr6_dbb_hap3    4610396\n",
       "31  chr17_ctg5_hap1    1680828\n",
       "32   chr4_ctg9_hap1     590426\n",
       "33             chrM      16571"
      ]
     },
     "execution_count": 34,
     "metadata": {},
     "output_type": "execute_result"
    }
   ],
   "source": [
    "file2 = open('C:/Users/BlueC/Documents/Mines/Santé/Code/hg19.genome.main.chr')\n",
    "reader2 = pd.read_csv(file2, delimiter='\\t')\n",
    "ligne0 = reader2.columns\n",
    "reader2.loc[33] = ligne0\n",
    "reader2.columns = ['chr', 'nb']\n",
    "\n",
    "#Remise dans l'ordre\n",
    "reader2.loc[34] = ligne0\n",
    "reader2 = reader2.shift(periods = 1)\n",
    "reader2.loc[0] = reader2.loc[34]\n",
    "reader2 = reader2.drop([34])\n",
    "reader2"
   ]
  },
  {
   "cell_type": "code",
   "execution_count": 44,
   "metadata": {},
   "outputs": [
    {
     "data": {
      "text/html": [
       "<div>\n",
       "<style scoped>\n",
       "    .dataframe tbody tr th:only-of-type {\n",
       "        vertical-align: middle;\n",
       "    }\n",
       "\n",
       "    .dataframe tbody tr th {\n",
       "        vertical-align: top;\n",
       "    }\n",
       "\n",
       "    .dataframe thead th {\n",
       "        text-align: right;\n",
       "    }\n",
       "</style>\n",
       "<table border=\"1\" class=\"dataframe\">\n",
       "  <thead>\n",
       "    <tr style=\"text-align: right;\">\n",
       "      <th></th>\n",
       "      <th>chr</th>\n",
       "      <th>start</th>\n",
       "      <th>end</th>\n",
       "      <th>type</th>\n",
       "      <th>distClosestG4</th>\n",
       "      <th>CGI</th>\n",
       "      <th>Ori</th>\n",
       "      <th>TSS</th>\n",
       "    </tr>\n",
       "  </thead>\n",
       "  <tbody>\n",
       "    <tr>\n",
       "      <th>0</th>\n",
       "      <td>chr1</td>\n",
       "      <td>2402</td>\n",
       "      <td>2426</td>\n",
       "      <td>Bulge</td>\n",
       "      <td>473</td>\n",
       "      <td>NaN</td>\n",
       "      <td>NaN</td>\n",
       "      <td>NaN</td>\n",
       "    </tr>\n",
       "    <tr>\n",
       "      <th>1</th>\n",
       "      <td>chr1</td>\n",
       "      <td>2899</td>\n",
       "      <td>2933</td>\n",
       "      <td>LongLoop</td>\n",
       "      <td>473</td>\n",
       "      <td>NaN</td>\n",
       "      <td>NaN</td>\n",
       "      <td>NaN</td>\n",
       "    </tr>\n",
       "    <tr>\n",
       "      <th>2</th>\n",
       "      <td>chr1</td>\n",
       "      <td>10525</td>\n",
       "      <td>10551</td>\n",
       "      <td>Bulge</td>\n",
       "      <td>918</td>\n",
       "      <td>NaN</td>\n",
       "      <td>NaN</td>\n",
       "      <td>NaN</td>\n",
       "    </tr>\n",
       "    <tr>\n",
       "      <th>3</th>\n",
       "      <td>chr1</td>\n",
       "      <td>11469</td>\n",
       "      <td>11503</td>\n",
       "      <td>Canonical</td>\n",
       "      <td>918</td>\n",
       "      <td>NaN</td>\n",
       "      <td>NaN</td>\n",
       "      <td>NaN</td>\n",
       "    </tr>\n",
       "    <tr>\n",
       "      <th>4</th>\n",
       "      <td>chr1</td>\n",
       "      <td>16111</td>\n",
       "      <td>16130</td>\n",
       "      <td>Bulge</td>\n",
       "      <td>2181</td>\n",
       "      <td>NaN</td>\n",
       "      <td>NaN</td>\n",
       "      <td>NaN</td>\n",
       "    </tr>\n",
       "    <tr>\n",
       "      <th>...</th>\n",
       "      <td>...</td>\n",
       "      <td>...</td>\n",
       "      <td>...</td>\n",
       "      <td>...</td>\n",
       "      <td>...</td>\n",
       "      <td>...</td>\n",
       "      <td>...</td>\n",
       "      <td>...</td>\n",
       "    </tr>\n",
       "    <tr>\n",
       "      <th>720229</th>\n",
       "      <td>chr21</td>\n",
       "      <td>48113314</td>\n",
       "      <td>48113335</td>\n",
       "      <td>GVBQ</td>\n",
       "      <td>4140</td>\n",
       "      <td>NaN</td>\n",
       "      <td>NaN</td>\n",
       "      <td>NaN</td>\n",
       "    </tr>\n",
       "    <tr>\n",
       "      <th>720230</th>\n",
       "      <td>chr21</td>\n",
       "      <td>48117475</td>\n",
       "      <td>48117497</td>\n",
       "      <td>Canonical</td>\n",
       "      <td>2462</td>\n",
       "      <td>NaN</td>\n",
       "      <td>NaN</td>\n",
       "      <td>NaN</td>\n",
       "    </tr>\n",
       "    <tr>\n",
       "      <th>720231</th>\n",
       "      <td>chr21</td>\n",
       "      <td>48119959</td>\n",
       "      <td>48119981</td>\n",
       "      <td>GVBQ</td>\n",
       "      <td>2462</td>\n",
       "      <td>NaN</td>\n",
       "      <td>NaN</td>\n",
       "      <td>NaN</td>\n",
       "    </tr>\n",
       "    <tr>\n",
       "      <th>720232</th>\n",
       "      <td>chr21</td>\n",
       "      <td>48123506</td>\n",
       "      <td>48123534</td>\n",
       "      <td>Bulge</td>\n",
       "      <td>2176</td>\n",
       "      <td>NaN</td>\n",
       "      <td>NaN</td>\n",
       "      <td>NaN</td>\n",
       "    </tr>\n",
       "    <tr>\n",
       "      <th>720233</th>\n",
       "      <td>chr21</td>\n",
       "      <td>48125710</td>\n",
       "      <td>48125740</td>\n",
       "      <td>GVBQ</td>\n",
       "      <td>2176</td>\n",
       "      <td>NaN</td>\n",
       "      <td>NaN</td>\n",
       "      <td>NaN</td>\n",
       "    </tr>\n",
       "  </tbody>\n",
       "</table>\n",
       "<p>720234 rows × 8 columns</p>\n",
       "</div>"
      ],
      "text/plain": [
       "          chr     start       end       type  distClosestG4  CGI  Ori  TSS\n",
       "0        chr1      2402      2426      Bulge            473  NaN  NaN  NaN\n",
       "1        chr1      2899      2933   LongLoop            473  NaN  NaN  NaN\n",
       "2        chr1     10525     10551      Bulge            918  NaN  NaN  NaN\n",
       "3        chr1     11469     11503  Canonical            918  NaN  NaN  NaN\n",
       "4        chr1     16111     16130      Bulge           2181  NaN  NaN  NaN\n",
       "...       ...       ...       ...        ...            ...  ...  ...  ...\n",
       "720229  chr21  48113314  48113335       GVBQ           4140  NaN  NaN  NaN\n",
       "720230  chr21  48117475  48117497  Canonical           2462  NaN  NaN  NaN\n",
       "720231  chr21  48119959  48119981       GVBQ           2462  NaN  NaN  NaN\n",
       "720232  chr21  48123506  48123534      Bulge           2176  NaN  NaN  NaN\n",
       "720233  chr21  48125710  48125740       GVBQ           2176  NaN  NaN  NaN\n",
       "\n",
       "[720234 rows x 8 columns]"
      ]
     },
     "execution_count": 44,
     "metadata": {},
     "output_type": "execute_result"
    }
   ],
   "source": [
    "file2 = open('C:/Users/BlueC/Documents/Mines/Santé/Code/random_G4.csv')\n",
    "list_random_2 = pd.read_csv(file2)\n",
    "list_random_2.drop('Unnamed: 0', axis=1, inplace=True)\n",
    "list_random_2"
   ]
  },
  {
   "cell_type": "code",
   "execution_count": 16,
   "metadata": {},
   "outputs": [
    {
     "data": {
      "image/png": "[encoded data removed]",
      "text/plain": [
       "<Figure size 432x288 with 1 Axes>"
      ]
     },
     "metadata": {
      "needs_background": "light"
     },
     "output_type": "display_data"
    },
    {
     "data": {
      "image/png": "[encoded data removed]",
      "text/plain": [
       "<Figure size 432x288 with 1 Axes>"
      ]
     },
     "metadata": {
      "needs_background": "light"
     },
     "output_type": "display_data"
    }
   ],
   "source": [
    "distance_reg = reader['distClosestG4']\n",
    "distance_rd = list_random_2['distClosestG4']\n",
    "\n",
    "plt.hist(distance_reg, range = (0,5000), bins = 100, density = True)\n",
    "plt.xlabel('Distance')\n",
    "plt.ylabel('Occurences')\n",
    "plt.ylim(0,0.0040)\n",
    "plt.title('Base de référence')\n",
    "plt.show()\n",
    "\n",
    "plt.hist(distance_rd, range = (0,10000), bins = 100, density = True)\n",
    "plt.xlabel('Distance')\n",
    "plt.ylabel('Occurences')\n",
    "plt.ylim(0,0.0040)\n",
    "plt.title('Base random')\n",
    "plt.show()"
   ]
  },
  {
   "cell_type": "code",
   "execution_count": 17,
   "metadata": {},
   "outputs": [
    {
     "data": {
      "image/png": "[encoded data removed]",
      "text/plain": [
       "<Figure size 432x288 with 1 Axes>"
      ]
     },
     "metadata": {
      "needs_background": "light"
     },
     "output_type": "display_data"
    }
   ],
   "source": [
    "distance_reg = reader['distClosestG4']\n",
    "distance_rd = list_random_2['distClosestG4']\n",
    "\n",
    "hist_rd = plt.hist(distance_rd, range = (0,5000), bins = 100, density = True)\n",
    "hist_reg = plt.hist(distance_reg, range = (0,5000), bins = 100, density = True)\n",
    "\n",
    "plt.xlabel('Distance')\n",
    "plt.ylabel('Occurences')\n",
    "plt.show()"
   ]
  },
  {
   "cell_type": "code",
   "execution_count": 18,
   "metadata": {},
   "outputs": [
    {
     "data": {
      "image/png": "[encoded data removed]",
      "text/plain": [
       "<Figure size 432x288 with 1 Axes>"
      ]
     },
     "metadata": {
      "needs_background": "light"
     },
     "output_type": "display_data"
    }
   ],
   "source": [
    "n = hist_rd[0]*50\n",
    "bins = hist_rd[1]\n",
    "plt.plot(bins[:-1], n, '-')\n",
    "\n",
    "n = hist_reg[0]*50\n",
    "bins = hist_reg[1]\n",
    "plt.plot(bins[:-1], n, '-')\n",
    "\n",
    "plt.xlabel('Distance')\n",
    "plt.ylabel('Rate')\n",
    "plt.title('Repartition of the distance to the closest G4')\n",
    "plt.legend([\"Randomized genome\",\"Referenced genome\"])\n",
    "plt.savefig('C:/Users/BlueC/Documents/Mines/Santé/Données et commentaires/fig7.jpg')\n",
    "plt.show()"
   ]
  },
  {
   "cell_type": "code",
   "execution_count": 19,
   "metadata": {},
   "outputs": [
    {
     "data": {
      "image/png": "[encoded data removed]",
      "text/plain": [
       "<Figure size 432x288 with 1 Axes>"
      ]
     },
     "metadata": {
      "needs_background": "light"
     },
     "output_type": "display_data"
    }
   ],
   "source": [
    "#G4 en cluster\n",
    "\n",
    "cluster_reg = reader[reader['distClosestG4'] < 101]\n",
    "cluster_rd = list_random_2[list_random_2['distClosestG4'] < 101]\n",
    "largeur = .35\n",
    "labels = ['Referenced genome', 'Randomized genome']\n",
    "\n",
    "fig, ax = plt.subplots()\n",
    "\n",
    "plt.bar([1,2],[len(cluster_reg)/len(reader), len(cluster_rd)/len(list_random_2)],largeur)\n",
    "\n",
    "ax.set_xticks([1,2])\n",
    "ax.set_xticklabels(labels)\n",
    "\n",
    "plt.title('Rate of clustered G4')\n",
    "plt.savefig('C:/Users/BlueC/Documents/Mines/Santé/Données et commentaires/fig8.jpg')\n",
    "\n",
    "\n",
    "plt.show()"
   ]
  },
  {
   "cell_type": "code",
   "execution_count": 20,
   "metadata": {},
   "outputs": [
    {
     "data": {
      "image/png": "[encoded data removed]",
      "text/plain": [
       "<Figure size 1080x576 with 1 Axes>"
      ]
     },
     "metadata": {
      "needs_background": "light"
     },
     "output_type": "display_data"
    }
   ],
   "source": [
    "# Par chromosome\n",
    "\n",
    "list_reg = []\n",
    "list_rd = []\n",
    "list_chrom = []\n",
    "for index, line in reader2[:23].iterrows():\n",
    "    chrom = line['chr']\n",
    "    list_chrom.append(chrom)\n",
    "    length_chrom = line['nb']\n",
    "    \n",
    "    reg = reader[reader['chr'] == chrom]\n",
    "    reg2 = reg[reg['distClosestG4'] < 100]\n",
    "    rd = list_random_2[list_random_2['chr'] == chrom]\n",
    "    rd2 = rd[rd['distClosestG4'] < 100]\n",
    "    \n",
    "    list_reg.append(len(reg2)/len(reg))\n",
    "    list_rd.append(len(rd2)/len(rd))\n",
    "    \n",
    "    \n",
    "x = np.arange(len(list_reg))\n",
    "largeur = .35\n",
    "\n",
    "fig, ax = plt.subplots(figsize = (15,8))\n",
    "r1 = ax.bar(x - largeur/2, list_reg, largeur)\n",
    "r2 = ax.bar(x + largeur/2, list_rd, largeur)\n",
    "\n",
    "ax.set_xticks(x)\n",
    "ax.set_xticklabels(list_chrom)\n",
    "\n",
    "plt.legend(['Referenced genome', 'Randomized genome'])\n",
    "plt.title(\"Rate of clustered G4 per chromosome\")\n",
    "\n",
    "plt.savefig('C:/Users/BlueC/Documents/Mines/Santé/Données et commentaires/fig9.jpg')\n",
    "plt.show()\n",
    "\n",
    "    "
   ]
  },
  {
   "cell_type": "code",
   "execution_count": 21,
   "metadata": {},
   "outputs": [
    {
     "data": {
      "image/png": "[encoded data removed]",
      "text/plain": [
       "<Figure size 1080x576 with 1 Axes>"
      ]
     },
     "metadata": {
      "needs_background": "light"
     },
     "output_type": "display_data"
    }
   ],
   "source": [
    "# Par chromosome\n",
    "\n",
    "list_reg = []\n",
    "list_rd = []\n",
    "list_chrom = []\n",
    "for index, line in reader2[:23].iterrows():\n",
    "    chrom = line['chr']\n",
    "    list_chrom.append(chrom)\n",
    "    length_chrom = line['nb']\n",
    "    \n",
    "    reg = reader[reader['chr'] == chrom]\n",
    "    reg2 = reg[reg['distClosestG4'] < 100]\n",
    "    rd = list_random_2[list_random_2['chr'] == chrom]\n",
    "    rd2 = rd[rd['distClosestG4'] < 100]\n",
    "    \n",
    "    list_reg.append(len(reg2))\n",
    "    list_rd.append(len(rd2))\n",
    "    \n",
    "    \n",
    "x = np.arange(len(list_reg))\n",
    "largeur = .35\n",
    "\n",
    "fig, ax = plt.subplots(figsize = (15,8))\n",
    "r1 = ax.bar(x - largeur/2, list_reg, largeur)\n",
    "r2 = ax.bar(x + largeur/2, list_rd, largeur)\n",
    "\n",
    "ax.set_xticks(x)\n",
    "ax.set_xticklabels(list_chrom)\n",
    "\n",
    "plt.legend(['Referenced genome', 'Randomized genome'])\n",
    "plt.title(\"Number of clustered G4 per chromosome\")\n",
    "\n",
    "plt.savefig('C:/Users/BlueC/Documents/Mines/Santé/Données et commentaires/fig11.jpg')\n",
    "plt.show()"
   ]
  },
  {
   "cell_type": "code",
   "execution_count": 40,
   "metadata": {},
   "outputs": [],
   "source": [
    "list_random_2 = pd.DataFrame(columns = reader.columns)\n",
    "dico_nb_cat = {'Canonical':0, 'Bulge':0, 'GVBQ':0, 'LongLoop':0}\n",
    "dico_proba_cat = {'Canonical':0, 'Bulge':0, 'GVBQ':0, 'LongLoop':0}\n",
    "\n",
    "nu = 0"
   ]
  },
  {
   "cell_type": "code",
   "execution_count": 46,
   "metadata": {},
   "outputs": [
    {
     "data": {
      "image/png": "[encoded data removed]",
      "text/plain": [
       "<Figure size 720x360 with 1 Axes>"
      ]
     },
     "metadata": {
      "needs_background": "light"
     },
     "output_type": "display_data"
    }
   ],
   "source": [
    "#Selon le type de G4\n",
    "\n",
    "list_reg = []\n",
    "list_rd = []\n",
    "list_cat = []\n",
    "\n",
    "for cat,nb in dico_nb_cat.items():\n",
    "    list_cat.append(cat)\n",
    "\n",
    "    reg = reader[reader['type'] == cat]\n",
    "    reg2 = reg[reg['distClosestG4'] < 100]\n",
    "    rd = list_random_2[list_random_2['type'] == cat]\n",
    "    rd2 = rd[rd['distClosestG4'] < 100]\n",
    "    \n",
    "    list_reg.append(len(reg2)/len(reg))\n",
    "    list_rd.append(len(rd2)/len(rd))\n",
    "    \n",
    "    \n",
    "x = np.arange(len(list_reg))\n",
    "largeur = .35\n",
    "\n",
    "fig, ax = plt.subplots(figsize = (10,5))\n",
    "r1 = ax.bar(x - largeur/2, list_reg, largeur)\n",
    "r2 = ax.bar(x + largeur/2, list_rd, largeur)\n",
    "\n",
    "ax.set_xticks(x)\n",
    "ax.set_xticklabels(list_cat)\n",
    "\n",
    "plt.legend(['Referenced genome', 'Randomized genome'])\n",
    "plt.title(\"Rate of clustered G4 per type\")\n",
    "\n",
    "plt.savefig('C:/Users/BlueC/Documents/Mines/Santé/Données et commentaires/fig10.jpg')\n",
    "plt.show()"
   ]
  },
  {
   "cell_type": "code",
   "execution_count": null,
   "metadata": {},
   "outputs": [],
   "source": []
  }
 ],
 "metadata": {
  "kernelspec": {
   "display_name": "Python 3",
   "language": "python",
   "name": "python3"
  },
  "language_info": {
   "codemirror_mode": {
    "name": "ipython",
    "version": 3
   },
   "file_extension": ".py",
   "mimetype": "text/x-python",
   "name": "python",
   "nbconvert_exporter": "python",
   "pygments_lexer": "ipython3",
   "version": "3.8.3"
  }
 },
 "nbformat": 4,
 "nbformat_minor": 4
}
