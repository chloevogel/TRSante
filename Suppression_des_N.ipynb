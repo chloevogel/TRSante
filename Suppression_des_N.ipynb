{
 "cells": [
  {
   "cell_type": "code",
   "execution_count": null,
   "metadata": {},
   "outputs": [],
   "source": [
    "import pandas as pd\n",
    "from matplotlib import pyplot as plt\n",
    "import numpy as np"
   ]
  },
  {
   "cell_type": "code",
   "execution_count": null,
   "metadata": {},
   "outputs": [],
   "source": [
    "list_chr = [str(i+1) for i in range (22)] + ['X']\n",
    "\n",
    "for i in list_chr:\n",
    "    \n",
    "    path = f'C:/Users/BlueC/Documents/Mines/Santé/Code/human_genome_random/chr{i}_G4_random_explicit'\n",
    "    \n",
    "    file_w = open(f'C:/Users/BlueC/Documents/Mines/Santé/Code/human_genome_random/chr{i}_G4_random_explicit_sansN', 'w')\n",
    "    \n",
    "    with open(path) as file:\n",
    "        for line in file:\n",
    "            line1 = line\n",
    "            line2 = next(file)\n",
    "            if line2.find('N') == -1:\n",
    "                file_w.write(line1)\n",
    "                file_w.write(line2)\n",
    "                \n",
    "    print(i)\n",
    "\n",
    "\n",
    "    "
   ]
  }
 ],
 "metadata": {
  "kernelspec": {
   "display_name": "Python 3",
   "language": "python",
   "name": "python3"
  },
  "language_info": {
   "codemirror_mode": {
    "name": "ipython",
    "version": 3
   },
   "file_extension": ".py",
   "mimetype": "text/x-python",
   "name": "python",
   "nbconvert_exporter": "python",
   "pygments_lexer": "ipython3",
   "version": "3.8.3"
  }
 },
 "nbformat": 4,
 "nbformat_minor": 4
}
